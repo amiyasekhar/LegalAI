{
 "cells": [
  {
   "cell_type": "markdown",
   "metadata": {},
   "source": [
    "Issues in line 0, 113281"
   ]
  },
  {
   "cell_type": "code",
   "execution_count": 1,
   "metadata": {},
   "outputs": [
    {
     "ename": "ModuleNotFoundError",
     "evalue": "No module named 'rdflib'",
     "output_type": "error",
     "traceback": [
      "\u001b[1;31m---------------------------------------------------------------------------\u001b[0m",
      "\u001b[1;31mModuleNotFoundError\u001b[0m                       Traceback (most recent call last)",
      "Cell \u001b[1;32mIn[1], line 1\u001b[0m\n\u001b[1;32m----> 1\u001b[0m \u001b[38;5;28;01mfrom\u001b[39;00m \u001b[38;5;21;01mrdflib\u001b[39;00m \u001b[38;5;28;01mimport\u001b[39;00m Graph, Literal, RDF, URIRef,Namespace, BNode\n\u001b[0;32m      2\u001b[0m \u001b[38;5;28;01mfrom\u001b[39;00m \u001b[38;5;21;01mrdflib\u001b[39;00m\u001b[38;5;21;01m.\u001b[39;00m\u001b[38;5;21;01mnamespace\u001b[39;00m \u001b[38;5;28;01mimport\u001b[39;00m FOAF , XSD,OWL,SKOS,RDFS\n\u001b[0;32m      4\u001b[0m lmss \u001b[38;5;241m=\u001b[39m Namespace(\u001b[38;5;124m\"\u001b[39m\u001b[38;5;124mhttp://lmss.sali.org/\u001b[39m\u001b[38;5;124m\"\u001b[39m)\n",
      "\u001b[1;31mModuleNotFoundError\u001b[0m: No module named 'rdflib'"
     ]
    }
   ],
   "source": [
    "from rdflib import Graph, Literal, RDF, URIRef,Namespace, BNode\n",
    "from rdflib.namespace import FOAF , XSD,OWL,SKOS,RDFS\n",
    "\n",
    "lmss = Namespace(\"http://lmss.sali.org/\")\n",
    "# Create a Graph\n",
    "g = Graph()\n",
    "# Parse in an RDF file hosted on the Internet\n",
    "g.parse(\"SALI_new\\SALI_new.owl\")\n",
    "\n",
    "\n",
    "\n",
    "\n"
   ]
  },
  {
   "cell_type": "code",
   "execution_count": 163,
   "metadata": {},
   "outputs": [],
   "source": [
    "#Python wraper for classes in ontology\n",
    "class OWLClass:\n",
    "    node_label = OWL.Class.n3(namespace_manager=g.namespace_manager).replace(\":\",\"_\")\n",
    "    \n",
    "    def __init__(self, iri, label, defination):\n",
    "        self.iri = iri\n",
    "        self.label = label\n",
    "        self.defination = defination\n",
    "        self.parents = []\n",
    "        self.relations = []\n",
    "\n",
    "class Relation:\n",
    "    def __init__(self, iri, label, to_iri):\n",
    "        self.iri = iri\n",
    "        self.label = label\n",
    "        self.to_iri = to_iri"
   ]
  },
  {
   "cell_type": "code",
   "execution_count": 164,
   "metadata": {},
   "outputs": [],
   "source": [
    "#FILL CLASS DETAILS \n",
    "onto_classes = g.subjects(RDF.type, OWL.Class)\n",
    "classes = []\n",
    "for c in onto_classes:\n",
    "    \n",
    "    label = g.value(c, RDFS.label)\n",
    "    if label is None:\n",
    "        label = c.split(\"#\")[-1]\n",
    "        \n",
    "    \n",
    "    classes.append(\n",
    "        OWLClass( c,label, g.value(c, SKOS.definition))\n",
    "        )\n",
    "    \n"
   ]
  },
  {
   "cell_type": "code",
   "execution_count": 165,
   "metadata": {},
   "outputs": [],
   "source": [
    "#FILL RELATIONSHIPS DETAILS AND PARENTS\n",
    "\n",
    "for clas in classes:\n",
    "    \n",
    "    parents = g.objects(clas.iri, RDFS.subClassOf)\n",
    "    \n",
    "    for p in list(parents):\n",
    "        \n",
    "        if type(p) == BNode:\n",
    "                \n",
    "            what = g.value(p, OWL.onProperty)\n",
    "            where = g.value(p, OWL.someValuesFrom)\n",
    "\n",
    "            if what is None and where is None:\n",
    "                continue\n",
    "\n",
    "    \n",
    "            if what.rsplit('/', 1)[0]+'/' == str(lmss):\n",
    "                label=g.value(what, RDFS.label)\n",
    "            else :   \n",
    "                label=what.n3(namespace_manager=g.namespace_manager)\n",
    "            \n",
    "            clas.relations.append(\n",
    "                Relation(what,label,where)\n",
    "                )\n",
    "            \n",
    "        elif type(p) == URIRef:\n",
    "            clas.parents.append(str(p))\n",
    "            clas.relations.append(\n",
    "                Relation(\n",
    "                    RDFS.subClassOf,RDFS.subClassOf.n3(namespace_manager=g.namespace_manager),str(p)\n",
    "                    )\n",
    "                )\n",
    "                "
   ]
  },
  {
   "cell_type": "code",
   "execution_count": 166,
   "metadata": {},
   "outputs": [
    {
     "name": "stdout",
     "output_type": "stream",
     "text": [
      "http://www.w3.org/2000/01/rdf-schema#subClassOf rdfs:subClassOf http://lmss.sali.org/RBOjgvcq6Z33XxMhTxWiiDS\n"
     ]
    }
   ],
   "source": [
    "judge = classes[2]\n",
    "for rel in judge.relations:\n",
    "    print(rel.iri,rel.label,rel.to_iri)\n",
    "    "
   ]
  },
  {
   "cell_type": "code",
   "execution_count": 167,
   "metadata": {},
   "outputs": [
    {
     "name": "stderr",
     "output_type": "stream",
     "text": [
      "C:\\Users\\dhana\\AppData\\Local\\Temp\\ipykernel_3844\\40082491.py:44: DeprecationWarning: write_transaction has been renamed to execute_write\n",
      "  session.write_transaction(create_relationships, classes)\n"
     ]
    }
   ],
   "source": [
    "from neo4j import GraphDatabase\n",
    "\n",
    "uri = \"bolt://localhost:7687\"\n",
    "username = \"neo4j\"\n",
    "password = \"Dhananjay@10\"\n",
    "\n",
    "def create_nodes(tx, owl_classes):\n",
    "    for owl_class in owl_classes:\n",
    "        query = (\n",
    "            \"CREATE (:{} {{iri: $iri, label: $label, definition: $definition}})\"\n",
    "            .format(OWLClass.node_label)\n",
    "        )\n",
    "        \n",
    "        \n",
    "        #print the query which will be executed\n",
    "        #print(query)\n",
    "        tx.run(query, iri=owl_class.iri, label=owl_class.label, definition=owl_class.defination)\n",
    "\n",
    "\n",
    "def create_relationships(tx, owl_classes):\n",
    "    for owl_class in owl_classes:\n",
    "        \n",
    "        for relation in owl_class.relations:\n",
    "            label = relation.label.replace(\":\", \"_\")\n",
    "\n",
    "            \n",
    "            query = (\n",
    "                f\"MATCH (a:{OWLClass.node_label} {{iri: '{owl_class.iri}'}}), \"\n",
    "                f\"(b:{OWLClass.node_label} {{iri: '{relation.to_iri}'}}) \"\n",
    "                f\"CREATE (a)-[:{label} {{ iri: '{relation.iri}'}} ]->(b)\"\n",
    "            )\n",
    "\n",
    "            try:\n",
    "                tx.run(query)\n",
    "            except Exception as e:\n",
    "                print(query)\n",
    "                \n",
    "        \n",
    "def delete_all_nodes(tx):\n",
    "    query = \"MATCH (n) DETACH DELETE n\"\n",
    "    tx.run(query)\n",
    "    \n",
    "\n",
    "\n",
    "\n",
    "with GraphDatabase.driver(uri, auth=(username, password)) as driver:\n",
    "    with driver.session() as session:\n",
    "        #session.write_transaction(create_nodes, classes)\n",
    "        session.write_transaction(create_relationships, classes)\n",
    "        #session.write_transaction(delete_all_nodes)"
   ]
  },
  {
   "cell_type": "code",
   "execution_count": 168,
   "metadata": {},
   "outputs": [
    {
     "ename": "SyntaxError",
     "evalue": "incomplete input (2827926030.py, line 5)",
     "output_type": "error",
     "traceback": [
      "\u001b[1;36m  Cell \u001b[1;32mIn[168], line 5\u001b[1;36m\u001b[0m\n\u001b[1;33m    #session.write_transaction(delete_all_nodes)\u001b[0m\n\u001b[1;37m                                                ^\u001b[0m\n\u001b[1;31mSyntaxError\u001b[0m\u001b[1;31m:\u001b[0m incomplete input\n"
     ]
    }
   ],
   "source": [
    "with GraphDatabase.driver(uri, auth=(username, password)) as driver:\n",
    "    with driver.session() as session:\n",
    "        #session.write_transaction(create_nodes, classes)\n",
    "        #session.write_transaction(create_relationships, classes)\n",
    "        #session.write_transaction(delete_all_nodes)"
   ]
  },
  {
   "cell_type": "code",
   "execution_count": 173,
   "metadata": {},
   "outputs": [],
   "source": []
  },
  {
   "cell_type": "code",
   "execution_count": 187,
   "metadata": {},
   "outputs": [
    {
     "name": "stdout",
     "output_type": "stream",
     "text": [
      "['Mr. Milind Raj ', 'Mr. S.R.S. Gil', 'Mr. Lalit Belwal', 'Mr. Ashish Belwal']\n"
     ]
    }
   ],
   "source": []
  },
  {
   "cell_type": "code",
   "execution_count": 183,
   "metadata": {},
   "outputs": [
    {
     "name": "stdout",
     "output_type": "stream",
     "text": [
      "Government Official\n"
     ]
    }
   ],
   "source": []
  },
  {
   "cell_type": "code",
   "execution_count": null,
   "metadata": {},
   "outputs": [],
   "source": [
    "from rdflib import Graph, Literal, RDF, URIRef\n",
    "from rdflib.namespace import FOAF , XSD,OWL,SKOS,RDFS\n",
    "\n",
    "# Create a Graph\n",
    "g = Graph()\n",
    "\n",
    "# Parse in an RDF file hosted on the Internet\n",
    "g.parse(\"main.owl\")\n",
    "\n",
    "q = \"\"\"\n",
    "    PREFIX xml: <http://www.w3.org/XML/1998/namespace>\n",
    "    PREFIX rdf: <http://www.w3.org/1999/02/22-rdf-syntax-ns#>\n",
    "    PREFIX rdfs: <http://www.w3.org/2000/01/rdf-schema#>\n",
    "    PREFIX xsd: <http://www.w3.org/2001/XMLSchema#>\n",
    "    PREFIX owl: <http://www.w3.org/2002/07/owl#>\n",
    "    PREFIX dc: <http://purl.org/dc/elements/1.1/>\n",
    "    PREFIX v1: <http://www.loc.gov/mads/rdf/v1#>\n",
    "    PREFIX lmss: <http://lmss.sali.org/>\n",
    "    PREFIX skos: <http://www.w3.org/2004/02/skos/core#>\n",
    "    PREFIX lmss1: <http://lmss.sali.org/2506>\n",
    "    PREFIX schema: <http://schema.org/>\n",
    "    PREFIX ontology: <http://www.geonames.org/ontology#>\n",
    "    PREFIX foaf: <http://xmlns.com/foaf/0.1/>\n",
    "\n",
    "\n",
    "    SELECT ?r ?s ?t ?l\n",
    "    WHERE {\n",
    "        ?p rdf:type owl:Class .\n",
    "        ?p rdfs:label \"Judge\" .\n",
    "        ?p rdfs:subClassOf ?r .\n",
    "        ?r rdf:type owl:Restriction .\n",
    "        ?r owl:onProperty ?t.\n",
    "        ?r owl:someValuesFrom ?s.\n",
    "    }\n",
    "\"\"\"\n",
    "for r in g.query(q):\n",
    "    print(r[\"r\"])\n",
    "    print(URIRef(r[\"s\"]).n3(g.namespace_manager))\n",
    "    print(URIRef(r[\"t\"]).n3(g.namespace_manager))\n",
    "    print(r[\"l\"])\n",
    "\n",
    "# Loop through each triple in the graph (subj, pred, obj)\n",
    "for subj, pred, obj in g:\n",
    "    # Check if there is at least one triple in the Graph\n",
    "    if (subj, pred, obj) not in g:\n",
    "       raise Exception(\"It better be!\")\n",
    "    \n",
    "    \n",
    "    print(subj, pred, obj)\n",
    "\n",
    "    \n",
    "\n",
    "# Print the number of \"triples\" in the Graph\n",
    "# print(f\"Graph g has {len(g)} statements.\")\n",
    "# print(OWL.Class)\n",
    "\n",
    "\n",
    "\n"
   ]
  }
 ],
 "metadata": {
  "kernelspec": {
   "display_name": "Python 3",
   "language": "python",
   "name": "python3"
  },
  "language_info": {
   "codemirror_mode": {
    "name": "ipython",
    "version": 3
   },
   "file_extension": ".py",
   "mimetype": "text/x-python",
   "name": "python",
   "nbconvert_exporter": "python",
   "pygments_lexer": "ipython3",
   "version": "3.9.17"
  }
 },
 "nbformat": 4,
 "nbformat_minor": 2
}
