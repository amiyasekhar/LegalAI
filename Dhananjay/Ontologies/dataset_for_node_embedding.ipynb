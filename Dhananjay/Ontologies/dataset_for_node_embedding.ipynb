{
 "cells": [
  {
   "cell_type": "code",
   "execution_count": 1,
   "metadata": {},
   "outputs": [
    {
     "data": {
      "text/plain": [
       "<Graph identifier=N0e4973bf2da04012bd340ca772be395d (<class 'rdflib.graph.Graph'>)>"
      ]
     },
     "execution_count": 1,
     "metadata": {},
     "output_type": "execute_result"
    }
   ],
   "source": [
    "from rdflib import Graph, Literal, RDF, URIRef,Namespace, BNode\n",
    "from rdflib.namespace import FOAF , XSD,OWL,SKOS,RDFS\n",
    "\n",
    "lmss = Namespace(\"http://lmss.sali.org/\")\n",
    "# Create a Graph\n",
    "g = Graph()\n",
    "# Parse in an RDF file hosted on the Internet\n",
    "g.parse(\"SALI_new\\LMSS.owl\")"
   ]
  },
  {
   "cell_type": "code",
   "execution_count": 2,
   "metadata": {},
   "outputs": [],
   "source": [
    "#Python wraper for classes in ontology\n",
    "class OWLClass:\n",
    "    node_label = OWL.Class.n3(namespace_manager=g.namespace_manager).replace(\":\",\"_\")\n",
    "    \n",
    "    def __init__(self, iri, label, defination):\n",
    "        self.iri = iri\n",
    "        self.label = label\n",
    "        self.defination = defination\n",
    "        self.parents = []\n",
    "        self.relations = []\n",
    "\n",
    "class Relation:\n",
    "    def __init__(self, iri, label, to_iri):\n",
    "        self.iri = iri\n",
    "        self.label = label\n",
    "        self.to_iri = to_iri"
   ]
  },
  {
   "cell_type": "code",
   "execution_count": 3,
   "metadata": {},
   "outputs": [],
   "source": [
    "#FILL CLASS DETAILS \n",
    "onto_classes = g.subjects(RDF.type, OWL.Class)\n",
    "classes = []\n",
    "for c in onto_classes:\n",
    "    \n",
    "    label = g.value(c, RDFS.label)\n",
    "    if label is None:\n",
    "        label = c.split(\"#\")[-1]\n",
    "        \n",
    "    \n",
    "    classes.append(\n",
    "        OWLClass( c,label, g.value(c, SKOS.definition))\n",
    "        )\n",
    "    \n"
   ]
  },
  {
   "cell_type": "code",
   "execution_count": 4,
   "metadata": {},
   "outputs": [],
   "source": [
    "classes = classes[35:]"
   ]
  },
  {
   "cell_type": "code",
   "execution_count": 5,
   "metadata": {},
   "outputs": [
    {
     "name": "stdout",
     "output_type": "stream",
     "text": [
      "http://lmss.sali.org/R003ff473B2b6B987d708840\n",
      "Federal Railroad Administration\n",
      "The Federal Railroad Administration (FRA) is an agency in the United States Department of Transportation (DOT).\n"
     ]
    }
   ],
   "source": [
    "print(classes[0].iri)\n",
    "print(classes[0].label)\n",
    "print(classes[0].defination)\n"
   ]
  },
  {
   "cell_type": "code",
   "execution_count": 6,
   "metadata": {},
   "outputs": [
    {
     "name": "stderr",
     "output_type": "stream",
     "text": [
      "C:\\Users\\dhana\\AppData\\Local\\Temp\\ipykernel_23564\\2724268025.py:1: DeprecationWarning: \n",
      "Pyarrow will become a required dependency of pandas in the next major release of pandas (pandas 3.0),\n",
      "(to allow more performant data types, such as the Arrow string type, and better interoperability with other libraries)\n",
      "but was not found to be installed on your system.\n",
      "If this would cause problems for you,\n",
      "please provide us feedback at https://github.com/pandas-dev/pandas/issues/54466\n",
      "        \n",
      "  import pandas as pd\n"
     ]
    }
   ],
   "source": [
    "import pandas as pd\n",
    "irirs = [c.iri for c in classes]\n",
    "labels = [c.label for c in classes]\n",
    "definations = [c.defination for c in classes]\n",
    "\n"
   ]
  },
  {
   "cell_type": "code",
   "execution_count": null,
   "metadata": {},
   "outputs": [],
   "source": [
    "\n",
    "# Sample data\n",
    "data = {\n",
    "    'iri': irirs,\n",
    "    'label': labels,\n",
    "    'definition': definations\n",
    "}\n",
    "\n",
    "# Create a DataFrame\n",
    "df = pd.DataFrame(data)\n",
    "\n",
    "# CSV file path\n",
    "csv_file_path = 'sali_mapping.csv'\n",
    "\n",
    "# Write the DataFrame to a CSV file\n",
    "df.to_csv(csv_file_path, index=False)\n",
    "\n",
    "print(f\"CSV file '{csv_file_path}' created successfully.\")"
   ]
  },
  {
   "cell_type": "code",
   "execution_count": 6,
   "metadata": {},
   "outputs": [
    {
     "name": "stdout",
     "output_type": "stream",
     "text": [
      "Number of rows in 'sali_mapping.csv': 14783\n"
     ]
    }
   ],
   "source": [
    "import pandas as pd\n",
    "\n",
    "# Replace 'your_file.csv' with the path to your CSV file\n",
    "csv_file_path = 'sali_mapping.csv'\n",
    "\n",
    "try:\n",
    "    # Read the CSV file into a DataFrame\n",
    "    df = pd.read_csv(csv_file_path)\n",
    "\n",
    "    # Count the number of rows\n",
    "    rows_count = len(df)\n",
    "\n",
    "    print(f\"Number of rows in '{csv_file_path}': {rows_count}\")\n",
    "\n",
    "except FileNotFoundError:\n",
    "    print(f\"File '{csv_file_path}' not found.\")\n",
    "except pd.errors.EmptyDataError:\n",
    "    print(f\"The file '{csv_file_path}' is empty.\")\n",
    "except Exception as e:\n",
    "    print(f\"An error occurred: {e}\")\n"
   ]
  },
  {
   "cell_type": "code",
   "execution_count": 3,
   "metadata": {},
   "outputs": [
    {
     "name": "stdout",
     "output_type": "stream",
     "text": [
      "['Federal Railroad Administration', 'Marlborough', 'Ngiwal', 'Bureau of Economic Analysis', 'nohiyahoi tobei jumhuri', 'Kaabong', 'Saint Paul', 'Togdheer', 'Phitsanulok', 'Central', 'Xiangkhouang', 'Szabolcs-Szatmar-Bereg', 'Hawaii State Courts', 'Daskasan', 'United States dollar', 'Jawa Barat', 'Diekirch', 'Siauliu apskritis', 'East Grand Bahama', 'Chiang Rai', 'Zurrieq', 'Mavrovo i Rostusa', 'Djibouti', 'Cordillera', 'Missouri Circuit Court - Dade County', 'Ivano-Frankivska oblast', 'Cavan', 'Bacs-Kiskun', 'Khabarovskiy kray', 'Buri Ram', 'Marsaxlokk', 'Balzers', 'Ysyk-Kol', 'U.S. Occupational Safety and Health Review Commission', 'Khorasan-e Shomali', 'U.S. Courts of Appeal', 'Haryana', 'Indiana City Court - Lake County, Hobart City', 'San Marino', 'La Guajira', 'Georgia Superior Court - Chattooga County', 'Bolivar', 'Jakarta Raya', 'U.S. B.A.P - 6th Circuit', 'Salyan', 'Alajuela', 'Aqtobe oblysy', 'Poljcane', 'Rwanda', 'Pastaza', 'Gradsko', 'New York City - Civil Court', 'Baa', 'Nevada', 'Badakhshan', 'Agusan del Sur', 'Mus', 'Jurmala', \"Leningradskaya oblast'\", 'East Berbice-Corentyne', 'Chiquimula', 'Lima', 'Santa Catarina do Fogo', 'Southern', 'Rio Negro', 'La Rioja', 'Golestan', 'Khmelnytska oblast', 'Gaafu Dhaalu', 'U.S. Bankruptcy Court - M.D. Tennessee', 'Mafeteng', 'Sinop', 'Lavalleja', 'U.S. Dept. of Energy', 'Nan', 'Office of the Comptroller of the Currency', 'Valmiera', 'Zrnovci', 'Mandoul', 'Ntcheu', 'Puerto Plata', 'Ulcinj', 'U.S. Bankruptcy Court - N.D. Oklahoma', 'Sulawesi Tengah', 'Kalasin', 'Arauca', 'Komondjari', 'Montagnes', 'U.S. Bankruptcy Court - E.D. Arkansas', 'Izmir', 'U.S. Dept. of State', 'Ahal', 'Elias Pina', 'Destrnik', 'U.S. Bankruptcy Court - W.D. Virginia', 'Amolatar', 'Uvs', 'Shandong', 'Delaware River Basin Commission', 'Bratislavsky kraj']\n"
     ]
    }
   ],
   "source": [
    "column_values = df['label'].tolist()\n",
    "print(column_values[:100])"
   ]
  },
  {
   "cell_type": "code",
   "execution_count": 5,
   "metadata": {},
   "outputs": [
    {
     "name": "stdout",
     "output_type": "stream",
     "text": [
      "Blanks using list comprehension: []\n",
      "0\n"
     ]
    }
   ],
   "source": [
    "# Using list comprehension to check for blanks\n",
    "blanks_using_comprehension = [item for item in column_values if item == '' or item is None]\n",
    "\n",
    "print(\"Blanks using list comprehension:\", blanks_using_comprehension)\n",
    "print(len(blanks_using_comprehension))"
   ]
  }
 ],
 "metadata": {
  "kernelspec": {
   "display_name": "llms-api",
   "language": "python",
   "name": "python3"
  },
  "language_info": {
   "codemirror_mode": {
    "name": "ipython",
    "version": 3
   },
   "file_extension": ".py",
   "mimetype": "text/x-python",
   "name": "python",
   "nbconvert_exporter": "python",
   "pygments_lexer": "ipython3",
   "version": "3.10.12"
  }
 },
 "nbformat": 4,
 "nbformat_minor": 2
}
