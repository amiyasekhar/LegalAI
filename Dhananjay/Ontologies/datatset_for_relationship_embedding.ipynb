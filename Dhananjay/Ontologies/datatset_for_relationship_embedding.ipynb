{
 "cells": [
  {
   "cell_type": "code",
   "execution_count": 1,
   "metadata": {},
   "outputs": [
    {
     "data": {
      "text/plain": [
       "<Graph identifier=N7ea941fb923044d69d20b645e6b8099f (<class 'rdflib.graph.Graph'>)>"
      ]
     },
     "execution_count": 1,
     "metadata": {},
     "output_type": "execute_result"
    }
   ],
   "source": [
    "from rdflib import Graph, Literal, RDF, URIRef,Namespace, BNode\n",
    "from rdflib.namespace import FOAF , XSD,OWL,SKOS,RDFS\n",
    "\n",
    "lmss = Namespace(\"http://lmss.sali.org/\")\n",
    "# Create a Graph\n",
    "g = Graph()\n",
    "# Parse in an RDF file hosted on the Internet\n",
    "g.parse(\"SALI_new\\LMSS.owl\")"
   ]
  },
  {
   "cell_type": "code",
   "execution_count": 2,
   "metadata": {},
   "outputs": [],
   "source": [
    "#Python wraper for classes in ontology\n",
    "class OWLClass:\n",
    "    node_label = OWL.Class.n3(namespace_manager=g.namespace_manager).replace(\":\",\"_\")\n",
    "    \n",
    "    def __init__(self, iri, label, defination):\n",
    "        self.iri = iri\n",
    "        self.label = label\n",
    "        self.defination = defination\n",
    "        self.parents = []\n",
    "        self.relations = []\n",
    "\n",
    "class Relation:\n",
    "    def __init__(self, iri, label, to_iri):\n",
    "        self.iri = iri\n",
    "        self.label = label\n",
    "        self.to_iri = to_iri"
   ]
  },
  {
   "cell_type": "code",
   "execution_count": 3,
   "metadata": {},
   "outputs": [],
   "source": [
    "#FILL CLASS DETAILS \n",
    "onto_classes = g.subjects(RDF.type, OWL.Class)\n",
    "classes = []\n",
    "for c in onto_classes:\n",
    "    \n",
    "    label = g.value(c, RDFS.label)\n",
    "    if label is None:\n",
    "        label = c.split(\"#\")[-1]\n",
    "        \n",
    "    \n",
    "    classes.append(\n",
    "        OWLClass( c,label, g.value(c, SKOS.definition))\n",
    "        )\n",
    "    "
   ]
  },
  {
   "cell_type": "code",
   "execution_count": 4,
   "metadata": {},
   "outputs": [],
   "source": [
    "#FILL RELATIONSHIPS DETAILS AND PARENTS\n",
    "\n",
    "for clas in classes:\n",
    "    \n",
    "    parents = g.objects(clas.iri, RDFS.subClassOf)\n",
    "    \n",
    "    for p in list(parents):\n",
    "        \n",
    "        if type(p) == BNode:\n",
    "                \n",
    "            what = g.value(p, OWL.onProperty)\n",
    "            where = g.value(p, OWL.someValuesFrom)\n",
    "\n",
    "            if what is None or where is None:\n",
    "                continue\n",
    "\n",
    "    \n",
    "            if what.rsplit('/', 1)[0]+'/' == str(lmss):\n",
    "                label=g.value(what, RDFS.label)\n",
    "            else :   \n",
    "                label=what.n3(namespace_manager=g.namespace_manager)\n",
    "            \n",
    "            clas.relations.append(\n",
    "                Relation(what,label,where)\n",
    "                )\n",
    "            \n",
    "        elif type(p) == URIRef:\n",
    "            clas.parents.append(p)\n",
    "            clas.relations.append(\n",
    "                Relation(\n",
    "                    RDFS.subClassOf,RDFS.subClassOf.n3(namespace_manager=g.namespace_manager),p\n",
    "                    )\n",
    "                )\n",
    "                "
   ]
  },
  {
   "cell_type": "code",
   "execution_count": null,
   "metadata": {},
   "outputs": [],
   "source": [
    "irir_froms = []\n",
    "irir_tos = []\n",
    "from_texts = []\n",
    "to_texts = []\n",
    "Relationships = []\n",
    "sentences = []\n",
    "\n",
    "\n",
    "for clas in classes:\n",
    "\n",
    "    if clas.relations == []:\n",
    "        continue\n",
    "\n",
    "\n",
    "\n",
    "    for rel in clas.relations:\n",
    "\n",
    "\n",
    "        #get the label and defination of rel.to_iri\n",
    "        to_iri_label = g.value(rel.to_iri, RDFS.label)\n",
    "\n",
    "        if to_iri_label is None:\n",
    "            to_iri_label = rel.to_iri.split(\"#\")[-1]\n",
    "        \n",
    "        to_iri_defination = g.value(rel.to_iri, SKOS.definition)\n",
    "        \n",
    "        \n",
    "\n",
    "        irir_froms.append(clas.iri)\n",
    "        irir_tos.append(rel.to_iri)\n",
    "        from_texts.append(clas.label)\n",
    "        to_texts.append(to_iri_label)\n",
    "        Relationships.append(rel.label)\n",
    "        sentences.append(clas.label + \" is \" + rel.label + \" of \" + to_iri_label)\n",
    "\n",
    "        if to_iri_defination is None or clas.defination is None:\n",
    "            continue\n",
    "\n",
    "        irir_froms.append(clas.iri)\n",
    "        irir_tos.append(rel.to_iri)\n",
    "        from_texts.append(clas.defination)\n",
    "        to_texts.append(to_iri_defination)\n",
    "        Relationships.append(rel.label)\n",
    "        sentences.append(clas.defination + \" is \" + rel.label + \" of \" + to_iri_defination)\n"
   ]
  },
  {
   "cell_type": "code",
   "execution_count": null,
   "metadata": {},
   "outputs": [],
   "source": [
    "import pandas as pd\n",
    "# Sample data\n",
    "data = {\n",
    "    \"iri_from\": irir_froms,\n",
    "    \"iri_to\": irir_tos,\n",
    "    \"from_text\": from_texts,\n",
    "    \"to_text\": to_texts,\n",
    "    \"relationship\": Relationships,\n",
    "    \"sentence\": sentences\n",
    "}\n",
    "\n",
    "# Create a DataFrame\n",
    "df = pd.DataFrame(data)\n",
    "\n",
    "# CSV file path\n",
    "csv_file_path = 'sali_relationship_mapping.csv'\n",
    "\n",
    "# Write the DataFrame to a CSV file\n",
    "df.to_csv(csv_file_path, index=False)\n",
    "\n",
    "print(f\"CSV file '{csv_file_path}' created successfully.\")"
   ]
  }
 ],
 "metadata": {
  "kernelspec": {
   "display_name": "llms-api",
   "language": "python",
   "name": "python3"
  },
  "language_info": {
   "codemirror_mode": {
    "name": "ipython",
    "version": 3
   },
   "file_extension": ".py",
   "mimetype": "text/x-python",
   "name": "python",
   "nbconvert_exporter": "python",
   "pygments_lexer": "ipython3",
   "version": "0.0.0"
  }
 },
 "nbformat": 4,
 "nbformat_minor": 2
}
