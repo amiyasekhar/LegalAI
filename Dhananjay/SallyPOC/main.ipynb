{
 "cells": [
  {
   "cell_type": "code",
   "execution_count": null,
   "metadata": {},
   "outputs": [],
   "source": [
    "%pip install rdflib"
   ]
  },
  {
   "cell_type": "code",
   "execution_count": null,
   "metadata": {},
   "outputs": [],
   "source": [
    "import importlib\n",
    "import sali_utils\n",
    "\n",
    "importlib.reload(sali_utils)\n",
    "print(sali_utils.get_list_of_ancestors(g,\"Judge\"))"
   ]
  },
  {
   "cell_type": "code",
   "execution_count": null,
   "metadata": {},
   "outputs": [],
   "source": [
    "import sali_utils\n",
    "suggestion = sali_utils.get_sali_suggestions(\"Judge\")\n",
    "print(suggestion)"
   ]
  },
  {
   "cell_type": "code",
   "execution_count": null,
   "metadata": {},
   "outputs": [],
   "source": [
    "%pip install neo4j"
   ]
  },
  {
   "cell_type": "code",
   "execution_count": 2,
   "metadata": {},
   "outputs": [
    {
     "ename": "ValueError",
     "evalue": "'tax_item_fee.tx_id entries per fee item.   \"' is not a valid language tag!",
     "output_type": "error",
     "traceback": [
      "\u001b[1;31m---------------------------------------------------------------------------\u001b[0m",
      "\u001b[1;31mValueError\u001b[0m                                Traceback (most recent call last)",
      "Cell \u001b[1;32mIn[2], line 7\u001b[0m\n\u001b[0;32m      4\u001b[0m g \u001b[39m=\u001b[39m Graph()\n\u001b[0;32m      6\u001b[0m \u001b[39m# Load the OWL file\u001b[39;00m\n\u001b[1;32m----> 7\u001b[0m g\u001b[39m.\u001b[39;49mparse(\u001b[39m\"\u001b[39;49m\u001b[39mLMSS-main\u001b[39;49m\u001b[39m\\\u001b[39;49m\u001b[39mLMSS-main\u001b[39;49m\u001b[39m\\\u001b[39;49m\u001b[39mLMSS.owl\u001b[39;49m\u001b[39m\"\u001b[39;49m,\u001b[39mformat\u001b[39;49m\u001b[39m=\u001b[39;49m\u001b[39m'\u001b[39;49m\u001b[39mxml\u001b[39;49m\u001b[39m'\u001b[39;49m)\n\u001b[0;32m      9\u001b[0m \u001b[39m# Print the number of triples in the graph\u001b[39;00m\n\u001b[0;32m     10\u001b[0m \u001b[39mprint\u001b[39m(\u001b[39mf\u001b[39m\u001b[39m\"\u001b[39m\u001b[39mTriples count: \u001b[39m\u001b[39m{\u001b[39;00m\u001b[39mlen\u001b[39m(g)\u001b[39m}\u001b[39;00m\u001b[39m\"\u001b[39m)\n",
      "File \u001b[1;32mc:\\Users\\dhana\\anaconda3\\envs\\p1\\lib\\site-packages\\rdflib\\graph.py:1494\u001b[0m, in \u001b[0;36mGraph.parse\u001b[1;34m(self, source, publicID, format, location, file, data, **args)\u001b[0m\n\u001b[0;32m   1491\u001b[0m parser \u001b[39m=\u001b[39m plugin\u001b[39m.\u001b[39mget(\u001b[39mformat\u001b[39m, Parser)()\n\u001b[0;32m   1492\u001b[0m \u001b[39mtry\u001b[39;00m:\n\u001b[0;32m   1493\u001b[0m     \u001b[39m# TODO FIXME: Parser.parse should have **kwargs argument.\u001b[39;00m\n\u001b[1;32m-> 1494\u001b[0m     parser\u001b[39m.\u001b[39mparse(source, \u001b[39mself\u001b[39m, \u001b[39m*\u001b[39m\u001b[39m*\u001b[39margs)\n\u001b[0;32m   1495\u001b[0m \u001b[39mexcept\u001b[39;00m \u001b[39mSyntaxError\u001b[39;00m \u001b[39mas\u001b[39;00m se:\n\u001b[0;32m   1496\u001b[0m     \u001b[39mif\u001b[39;00m could_not_guess_format:\n",
      "File \u001b[1;32mc:\\Users\\dhana\\anaconda3\\envs\\p1\\lib\\site-packages\\rdflib\\plugins\\parsers\\rdfxml.py:647\u001b[0m, in \u001b[0;36mRDFXMLParser.parse\u001b[1;34m(self, source, sink, **args)\u001b[0m\n\u001b[0;32m    643\u001b[0m     content_handler\u001b[39m.\u001b[39mpreserve_bnode_ids \u001b[39m=\u001b[39m preserve_bnode_ids\n\u001b[0;32m    644\u001b[0m \u001b[39m# # We're only using it once now\u001b[39;00m\n\u001b[0;32m    645\u001b[0m \u001b[39m# content_handler.reset()\u001b[39;00m\n\u001b[0;32m    646\u001b[0m \u001b[39m# self._parser.reset()\u001b[39;00m\n\u001b[1;32m--> 647\u001b[0m \u001b[39mself\u001b[39;49m\u001b[39m.\u001b[39;49m_parser\u001b[39m.\u001b[39;49mparse(source)\n",
      "File \u001b[1;32mc:\\Users\\dhana\\anaconda3\\envs\\p1\\lib\\xml\\sax\\expatreader.py:111\u001b[0m, in \u001b[0;36mExpatParser.parse\u001b[1;34m(self, source)\u001b[0m\n\u001b[0;32m    109\u001b[0m     \u001b[39mself\u001b[39m\u001b[39m.\u001b[39mreset()\n\u001b[0;32m    110\u001b[0m     \u001b[39mself\u001b[39m\u001b[39m.\u001b[39m_cont_handler\u001b[39m.\u001b[39msetDocumentLocator(ExpatLocator(\u001b[39mself\u001b[39m))\n\u001b[1;32m--> 111\u001b[0m     xmlreader\u001b[39m.\u001b[39;49mIncrementalParser\u001b[39m.\u001b[39;49mparse(\u001b[39mself\u001b[39;49m, source)\n\u001b[0;32m    112\u001b[0m \u001b[39mexcept\u001b[39;00m:\n\u001b[0;32m    113\u001b[0m     \u001b[39m# bpo-30264: Close the source on error to not leak resources:\u001b[39;00m\n\u001b[0;32m    114\u001b[0m     \u001b[39m# xml.sax.parse() doesn't give access to the underlying parser\u001b[39;00m\n\u001b[0;32m    115\u001b[0m     \u001b[39m# to the caller\u001b[39;00m\n\u001b[0;32m    116\u001b[0m     \u001b[39mself\u001b[39m\u001b[39m.\u001b[39m_close_source()\n",
      "File \u001b[1;32mc:\\Users\\dhana\\anaconda3\\envs\\p1\\lib\\xml\\sax\\xmlreader.py:125\u001b[0m, in \u001b[0;36mIncrementalParser.parse\u001b[1;34m(self, source)\u001b[0m\n\u001b[0;32m    123\u001b[0m buffer \u001b[39m=\u001b[39m file\u001b[39m.\u001b[39mread(\u001b[39mself\u001b[39m\u001b[39m.\u001b[39m_bufsize)\n\u001b[0;32m    124\u001b[0m \u001b[39mwhile\u001b[39;00m buffer:\n\u001b[1;32m--> 125\u001b[0m     \u001b[39mself\u001b[39;49m\u001b[39m.\u001b[39;49mfeed(buffer)\n\u001b[0;32m    126\u001b[0m     buffer \u001b[39m=\u001b[39m file\u001b[39m.\u001b[39mread(\u001b[39mself\u001b[39m\u001b[39m.\u001b[39m_bufsize)\n\u001b[0;32m    127\u001b[0m \u001b[39mself\u001b[39m\u001b[39m.\u001b[39mclose()\n",
      "File \u001b[1;32mc:\\Users\\dhana\\anaconda3\\envs\\p1\\lib\\xml\\sax\\expatreader.py:217\u001b[0m, in \u001b[0;36mExpatParser.feed\u001b[1;34m(self, data, isFinal)\u001b[0m\n\u001b[0;32m    210\u001b[0m     \u001b[39mself\u001b[39m\u001b[39m.\u001b[39m_cont_handler\u001b[39m.\u001b[39mstartDocument()\n\u001b[0;32m    212\u001b[0m \u001b[39mtry\u001b[39;00m:\n\u001b[0;32m    213\u001b[0m     \u001b[39m# The isFinal parameter is internal to the expat reader.\u001b[39;00m\n\u001b[0;32m    214\u001b[0m     \u001b[39m# If it is set to true, expat will check validity of the entire\u001b[39;00m\n\u001b[0;32m    215\u001b[0m     \u001b[39m# document. When feeding chunks, they are not normally final -\u001b[39;00m\n\u001b[0;32m    216\u001b[0m     \u001b[39m# except when invoked from close.\u001b[39;00m\n\u001b[1;32m--> 217\u001b[0m     \u001b[39mself\u001b[39;49m\u001b[39m.\u001b[39;49m_parser\u001b[39m.\u001b[39;49mParse(data, isFinal)\n\u001b[0;32m    218\u001b[0m \u001b[39mexcept\u001b[39;00m expat\u001b[39m.\u001b[39merror \u001b[39mas\u001b[39;00m e:\n\u001b[0;32m    219\u001b[0m     exc \u001b[39m=\u001b[39m SAXParseException(expat\u001b[39m.\u001b[39mErrorString(e\u001b[39m.\u001b[39mcode), e, \u001b[39mself\u001b[39m)\n",
      "File \u001b[1;32mc:\\b\\abs_c0vehw5clj\\croot\\python-split_1678271126763\\work\\modules\\pyexpat.c:461\u001b[0m, in \u001b[0;36mEndElement\u001b[1;34m()\u001b[0m\n",
      "File \u001b[1;32mc:\\Users\\dhana\\anaconda3\\envs\\p1\\lib\\xml\\sax\\expatreader.py:381\u001b[0m, in \u001b[0;36mExpatParser.end_element_ns\u001b[1;34m(self, name)\u001b[0m\n\u001b[0;32m    378\u001b[0m \u001b[39melse\u001b[39;00m:\n\u001b[0;32m    379\u001b[0m     pair \u001b[39m=\u001b[39m \u001b[39mtuple\u001b[39m(pair)\n\u001b[1;32m--> 381\u001b[0m \u001b[39mself\u001b[39;49m\u001b[39m.\u001b[39;49m_cont_handler\u001b[39m.\u001b[39;49mendElementNS(pair, \u001b[39mNone\u001b[39;49;00m)\n",
      "File \u001b[1;32mc:\\Users\\dhana\\anaconda3\\envs\\p1\\lib\\site-packages\\rdflib\\plugins\\parsers\\rdfxml.py:206\u001b[0m, in \u001b[0;36mRDFXMLHandler.endElementNS\u001b[1;34m(self, name, qname)\u001b[0m\n\u001b[0;32m    205\u001b[0m \u001b[39mdef\u001b[39;00m \u001b[39mendElementNS\u001b[39m(\u001b[39mself\u001b[39m, name: Tuple[Optional[\u001b[39mstr\u001b[39m], \u001b[39mstr\u001b[39m], qname) \u001b[39m-\u001b[39m\u001b[39m>\u001b[39m \u001b[39mNone\u001b[39;00m:\n\u001b[1;32m--> 206\u001b[0m     \u001b[39mself\u001b[39;49m\u001b[39m.\u001b[39;49mcurrent\u001b[39m.\u001b[39;49mend(name, qname)\n\u001b[0;32m    207\u001b[0m     \u001b[39mself\u001b[39m\u001b[39m.\u001b[39mstack\u001b[39m.\u001b[39mpop()\n",
      "File \u001b[1;32mc:\\Users\\dhana\\anaconda3\\envs\\p1\\lib\\site-packages\\rdflib\\plugins\\parsers\\rdfxml.py:536\u001b[0m, in \u001b[0;36mRDFXMLHandler.property_element_end\u001b[1;34m(self, name, qname)\u001b[0m\n\u001b[0;32m    534\u001b[0m     \u001b[39mif\u001b[39;00m current\u001b[39m.\u001b[39mdatatype \u001b[39mis\u001b[39;00m \u001b[39mnot\u001b[39;00m \u001b[39mNone\u001b[39;00m:\n\u001b[0;32m    535\u001b[0m         literalLang \u001b[39m=\u001b[39m \u001b[39mNone\u001b[39;00m\n\u001b[1;32m--> 536\u001b[0m     current\u001b[39m.\u001b[39mobject \u001b[39m=\u001b[39m Literal(current\u001b[39m.\u001b[39;49mdata, literalLang, current\u001b[39m.\u001b[39;49mdatatype)\n\u001b[0;32m    537\u001b[0m     current\u001b[39m.\u001b[39mdata \u001b[39m=\u001b[39m \u001b[39mNone\u001b[39;00m\n\u001b[0;32m    538\u001b[0m \u001b[39mif\u001b[39;00m \u001b[39mself\u001b[39m\u001b[39m.\u001b[39mnext\u001b[39m.\u001b[39mend \u001b[39m==\u001b[39m \u001b[39mself\u001b[39m\u001b[39m.\u001b[39mlist_node_element_end:\n",
      "File \u001b[1;32mc:\\Users\\dhana\\anaconda3\\envs\\p1\\lib\\site-packages\\rdflib\\term.py:625\u001b[0m, in \u001b[0;36mLiteral.__new__\u001b[1;34m(cls, lexical_or_value, lang, datatype, normalize)\u001b[0m\n\u001b[0;32m    619\u001b[0m     \u001b[39mraise\u001b[39;00m \u001b[39mTypeError\u001b[39;00m(\n\u001b[0;32m    620\u001b[0m         \u001b[39m\"\u001b[39m\u001b[39mA Literal can only have one of lang or datatype, \u001b[39m\u001b[39m\"\u001b[39m\n\u001b[0;32m    621\u001b[0m         \u001b[39m\"\u001b[39m\u001b[39mper http://www.w3.org/TR/rdf-concepts/#section-Graph-Literal\u001b[39m\u001b[39m\"\u001b[39m\n\u001b[0;32m    622\u001b[0m     )\n\u001b[0;32m    624\u001b[0m \u001b[39mif\u001b[39;00m lang \u001b[39mis\u001b[39;00m \u001b[39mnot\u001b[39;00m \u001b[39mNone\u001b[39;00m \u001b[39mand\u001b[39;00m \u001b[39mnot\u001b[39;00m _is_valid_langtag(lang):\n\u001b[1;32m--> 625\u001b[0m     \u001b[39mraise\u001b[39;00m \u001b[39mValueError\u001b[39;00m(\u001b[39mf\u001b[39m\u001b[39m\"\u001b[39m\u001b[39m'\u001b[39m\u001b[39m{\u001b[39;00m\u001b[39mstr\u001b[39m(lang)\u001b[39m}\u001b[39;00m\u001b[39m'\u001b[39m\u001b[39m is not a valid language tag!\u001b[39m\u001b[39m\"\u001b[39m)\n\u001b[0;32m    627\u001b[0m \u001b[39mif\u001b[39;00m datatype \u001b[39mis\u001b[39;00m \u001b[39mnot\u001b[39;00m \u001b[39mNone\u001b[39;00m:\n\u001b[0;32m    628\u001b[0m     datatype \u001b[39m=\u001b[39m URIRef(datatype)\n",
      "\u001b[1;31mValueError\u001b[0m: 'tax_item_fee.tx_id entries per fee item.   \"' is not a valid language tag!"
     ]
    }
   ],
   "source": [
    "from rdflib import Graph\n",
    "\n",
    "# Create a graph\n",
    "g = Graph()\n",
    "\n",
    "# Load the OWL file\n",
    "g.parse(\"LMSS-main\\LMSS-main\\LMSS.owl\",format='xml')\n",
    "\n",
    "# Print the number of triples in the graph\n",
    "print(f\"Triples count: {len(g)}\")\n",
    "\n"
   ]
  },
  {
   "cell_type": "code",
   "execution_count": 76,
   "metadata": {},
   "outputs": [
    {
     "name": "stdout",
     "output_type": "stream",
     "text": [
      "All nodes and relationships deleted successfully.\n"
     ]
    }
   ],
   "source": [
    "from neo4j import GraphDatabase\n",
    "import neo4j_utils\n",
    "import importlib\n",
    "\n",
    "\n",
    "importlib.reload(neo4j_utils)\n",
    "\n",
    "# Connect to Neo4j\n",
    "uri = \"neo4j+s://c31bf928.databases.neo4j.io\"  # Replace with the appropriate URI\n",
    "username = \"neo4j\"     # Replace with your username\n",
    "password = \"44its1IRP0BiYW6wYdnOReBZ_dDPlCAIhAxDx4utVNQ\"     # Replace with your password\n",
    "\n",
    "driver = GraphDatabase.driver(uri, auth=(username, password))\n",
    "\n",
    "neo4j_utils.delete_all_nodes_and_relationships(driver)\n",
    "# Call the function to create a node with an array property\n",
    "#neo4j_utils.add_triplet_to_neo4j(driver,\"Judge\", [\"Judge\"], \"is_a\", \"Person\", [\"Person\"])\n",
    "\n",
    "# Close the driver\n",
    "driver.close()\n"
   ]
  },
  {
   "cell_type": "code",
   "execution_count": 75,
   "metadata": {},
   "outputs": [
    {
     "name": "stdout",
     "output_type": "stream",
     "text": [
      "All nodes and relationships deleted successfully.\n",
      "Triplet added successfully. Subject: by_K_N_SETH Predicate: delivered Object: The_Judgment\n",
      "Triplet added successfully. Subject: J_These_petitions Predicate: raise Object: a_company_mon_question\n",
      "Triplet added successfully. Subject: J_These Predicate: may Object: company_veniently_be_decided_by_a_company_mon_judgment\n",
      "Triplet added successfully. Subject: by_a_company_mon_judgment Predicate: decided Object: company_veniently\n",
      "Triplet added successfully. Subject: public_limited_company Predicate: manufacture Object: sugar\n",
      "Triplet added successfully. Subject: Mills_Limited_manufacture_alcohol Predicate: situate Object: within_the_premises_of_the_sugar_mills\n",
      "Triplet added successfully. Subject: Daurala_in_the_district_of_Meerut Predicate: has Object: a_distillery_for_manufacturing_alcohol_from_molasses\n",
      "Triplet added successfully. Subject: by_M_s_Upper_Ganges_Sugar Predicate: filed Object: the_petition\n",
      "Triplet added successfully. Subject: number Predicate: asserted Object: that_M_s_Upper_Ganges_Sugar_Mills_Limited_manufactures_alcohol_also_In_the_process_of_manufacture_of_sugar_molasses_is_produced_as_a_bye_product_which_forms_the_basic_material_from_which_alcohol_is_manufactured\n",
      "Triplet added successfully. Subject: a_bye_product Predicate: forms Object: the_basic_material_from_which_alcohol_is_manufactured\n",
      "Triplet added successfully. Subject: by_the_sugar_mills Predicate: produced Object: The_molasses\n",
      "Triplet added successfully. Subject: the_distilleries Predicate: situate Object: within_the_premises_of_the_sugar_mills\n",
      "Triplet added successfully. Subject: the_Controller_of_Molasses Predicate: exercises Object: full_power_over_the_production_sale_preservation_and_price_of_molasses\n",
      "Triplet added successfully. Subject: the_Central_Government Predicate: imposed Object: excise_duty_on_the_manufacture_and_production_of_molasses\n",
      "Triplet added successfully. Subject: the_Central_Government Predicate: issued Object: issued_number_ification_number_86_80_CE_exempting_molasses_from\n",
      "Triplet added successfully. Subject: the_Central_Government Predicate: exempted Object: in_a_factory\n",
      "Triplet added successfully. Subject: the_Central_Government Predicate: intended Object: for_use_in_the_factory_in_which_it_is_manufactured_or_in_any_other_factory_of_the_same_manufacturer_By_Finance_Act\n",
      "Triplet added successfully. Subject: the_Parliament Predicate: introduced Object: Tariff_Item_number_15CC\n",
      "Triplet added successfully. Subject: the_Parliament Predicate: imposed Object: an_excise_duty\n",
      "Triplet added successfully. Subject: the_Central_Government Predicate: issued Object: number_produced_in_the_manufacture_of_sugar_by_the_vacuum_pan_process\n",
      "Triplet added successfully. Subject: number_ification_number Predicate: exempting Object: from_payment_of_excise_duty_which_was_number_produced_in_the_manufacture_of_sugar_by_the_vacuum_pan_process\n",
      "Triplet added successfully. Subject: by_the_vacuum_pan_process Predicate: produced Object: which\n",
      "Triplet added successfully. Subject: by_The_petitioners Predicate: directed Object: The_petitioners\n",
      "Triplet added successfully. Subject: The_petitioners Predicate: pay Object: excise_duty\n",
      "Triplet added successfully. Subject: The_petitioners Predicate: had Object: the_stock_of_molasses\n",
      "Triplet added successfully. Subject: The_petitioners Predicate: objected Object: to_this_demand\n",
      "Triplet added successfully. Subject: The_petitioners Predicate: prayed Object: for_quashing_the_demands_raised_by_The_petitioners_The_Delhi_Cloth_and_General_Mills_Company_Limited_which_has_paid_the_duty_demand_by_The_petitioners_has_prayed_for_refund_of_the_excise_duty_paid_by_The_Delhi_Cloth_and_General_Mills_Company_Limited_which_has_paid_the_duty_demand_by_the_respondents_Certain_other_prayers_have_been_made_in_These_petitions\n",
      "Triplet added successfully. Subject: by_The_petitioners Predicate: raised Object: the_demands\n",
      "Triplet added successfully. Subject: The_petitioners_The_Delhi_Cloth_and_General_Mills_Company_Limited Predicate: paid Object: the_duty_demand\n",
      "Triplet added successfully. Subject: The_Delhi_Cloth_and_General_Mills_Company_Limited_which_has_paid_the_duty_demand_by_The_petitioners Predicate: prayed Object: for_refund_of_the_excise_duty_paid_by_The_Delhi_Cloth_and_General_Mills_Company_Limited_which_has_paid_the_duty_demand_by_the_respondents_Certain_other_prayers_have_been_made_in_These_petitions\n",
      "Triplet added successfully. Subject: the_respondents Predicate: paid Object: the_excise_duty\n",
      "Triplet added successfully. Subject: The_Delhi_Cloth_and_General_Mills_Company_Limited Predicate: paid Object: the_duty_demand_by_the_respondents\n",
      "Triplet added successfully. Subject: These_petitions Predicate: need Object: number_be_set_out_here\n",
      "Triplet added successfully. Subject: molasses Predicate: produced Object: The_petitioners\n",
      "Triplet added successfully. Subject: by_the_respondents Predicate: raised Object: the_demands\n",
      "Triplet added successfully. Subject: We Predicate: find Object: number_merit_in_the_company_tention\n",
      "Triplet added successfully. Subject: inM_s_McDowell_amp_Co_ Predicate: limited Object: v_Commercial_Tax_Officer_VII_Circle\n",
      "Triplet added successfully. Subject: at_a_company_venient_stage_so_long Predicate: levied Object: the_excise_duty\n",
      "Triplet added successfully. Subject: The_method_of_company_lection Predicate: affect Object: the_essence_of_the_excise_duty\n",
      "Triplet added successfully. Subject: which Predicate: impose Object: a_duty_on_excise\n",
      "Triplet added successfully. Subject: Rule_9_of_the_Central_Excises_and_Salt_Act Predicate: provides Object: that_number_excisable_goods_shall_be_removed_from_any_place_where_number_excisable_goods_are_produced_cured_or_manufactured_or_any_premises_appurtenant_thereto_which_may_be_specified_by_the_Collector_in_this_behalf_whether_for_company_sumption_export_or_manufactures_or_any_other_company_modity_in_or_outside_any_place_where_they_are_produced_cured_or_manufactured_until_the_excise_duty_leviable_thereon_has_been_paid_at_any_place_where_they_are_produced_cured_or_manufactured_and_in_such_manner_as_is_prescribed_in_the_Central_Excises_and_Salt_Act_or_as_the_Collector_may_require\n",
      "Triplet added successfully. Subject: number_excisable_goods Predicate: manufactured Object: appurtenant_thereto\n",
      "Triplet added successfully. Subject: by_the_Collector Predicate: specified Object: any_premises_appurtenant_thereto\n",
      "Triplet added successfully. Subject: Rule_9_A Predicate: provides Object: that_the_rate_of_duty_and_tariff_valuation_if_any_applicable_to_any_excisable_goods_shall_be_the_rate_and_valuation_in_force_i_in_the_case_of_goods_cleared_from_the_premises_of_a_curer_on_payment_of_duty_on_the_date_on_which_the_duty_assessed_and_ii_in_the_case_of_goods_cleared_from_a_factory_or_a_warehouse_subject_to_certain_other_rules_which_are_number_relevant_for_our_purpose_on_the_date_of_the_actual_removal_of_such_goods_from_a_factory_or_a_warehouse\n",
      "Triplet added successfully. Subject: the_duty Predicate: assessed Object: goods_cleared_from_a_factory_or_a_warehouse\n",
      "Triplet added successfully. Subject: Rule_49 Predicate: makes Object: it_clear_that_excise_duty_is_chargeable_on_removal_of_the_goods_from_the_factory_premises_or_from_an_approved_place_of_storage\n",
      "Triplet added successfully. Subject: Rule_49 Predicate: provides Object: that_payment_of_duty_shall_number_be_required_in_respect_of_excisable_goods_made_in_a_factory_until_excisable_goods_made_in_a_factory_are_about_to_be_issued_out_of_the_place_or_premises_specified_under_Rule_9_of_the_Central_Excise_rules_or_are_about_to_be_removed_from_a_store_room_or_other_place_of_storage_approved_by_the_Collector_under_rule_47\n",
      "Triplet added successfully. Subject: by_the_Collector Predicate: approved Object: storage\n"
     ]
    },
    {
     "ename": "CypherSyntaxError",
     "evalue": "{code: Neo.ClientError.Statement.SyntaxError} {message: Invalid input ':': expected\n  \"(\"\n  \"ALL\"\n  \"ANY\"\n  \"SHORTEST\"\n  \"allShortestPaths\"\n  \"shortestPath\" (line 1, column 9 (offset: 8))\n\"CREATE (:1980 {tags: $subject_sali_tags_1})-[:affect]->(:the_liability_of_The_petitioners_for_excise_duty_on_the_stock_of_molasses_available_with_The_petitioners {tags: $object_sali_tags_1})\"\n         ^}",
     "output_type": "error",
     "traceback": [
      "\u001b[1;31m---------------------------------------------------------------------------\u001b[0m",
      "\u001b[1;31mCypherSyntaxError\u001b[0m                         Traceback (most recent call last)",
      "Cell \u001b[1;32mIn[75], line 49\u001b[0m\n\u001b[0;32m     46\u001b[0m     predicate \u001b[39m=\u001b[39m triplet[\u001b[39m\"\u001b[39m\u001b[39mpredicate\u001b[39m\u001b[39m\"\u001b[39m]\n\u001b[0;32m     48\u001b[0m     \u001b[39m# Call the function to create a node with an array property\u001b[39;00m\n\u001b[1;32m---> 49\u001b[0m     neo4j_utils\u001b[39m.\u001b[39;49madd_triplet_to_neo4j(driver,\n\u001b[0;32m     50\u001b[0m                                  re\u001b[39m.\u001b[39;49msub(\u001b[39mr\u001b[39;49m\u001b[39m'\u001b[39;49m\u001b[39m\\\u001b[39;49m\u001b[39mW+\u001b[39;49m\u001b[39m'\u001b[39;49m, \u001b[39m'\u001b[39;49m\u001b[39m_\u001b[39;49m\u001b[39m'\u001b[39;49m,triplet[\u001b[39m\"\u001b[39;49m\u001b[39msubject\u001b[39;49m\u001b[39m\"\u001b[39;49m]),\n\u001b[0;32m     51\u001b[0m                                  re\u001b[39m.\u001b[39;49msub(\u001b[39mr\u001b[39;49m\u001b[39m'\u001b[39;49m\u001b[39m\\\u001b[39;49m\u001b[39mW+\u001b[39;49m\u001b[39m'\u001b[39;49m, \u001b[39m'\u001b[39;49m\u001b[39m_\u001b[39;49m\u001b[39m'\u001b[39;49m,subject_tag), \n\u001b[0;32m     52\u001b[0m                                  subject_sali_tags, \n\u001b[0;32m     53\u001b[0m                                  re\u001b[39m.\u001b[39;49msub(\u001b[39mr\u001b[39;49m\u001b[39m'\u001b[39;49m\u001b[39m\\\u001b[39;49m\u001b[39mW+\u001b[39;49m\u001b[39m'\u001b[39;49m, \u001b[39m'\u001b[39;49m\u001b[39m_\u001b[39;49m\u001b[39m'\u001b[39;49m,predicate),\n\u001b[0;32m     54\u001b[0m                                  re\u001b[39m.\u001b[39;49msub(\u001b[39mr\u001b[39;49m\u001b[39m'\u001b[39;49m\u001b[39m\\\u001b[39;49m\u001b[39mW+\u001b[39;49m\u001b[39m'\u001b[39;49m, \u001b[39m'\u001b[39;49m\u001b[39m_\u001b[39;49m\u001b[39m'\u001b[39;49m,triplet[\u001b[39m\"\u001b[39;49m\u001b[39mobject\u001b[39;49m\u001b[39m\"\u001b[39;49m]),\n\u001b[0;32m     55\u001b[0m                                    re\u001b[39m.\u001b[39;49msub(\u001b[39mr\u001b[39;49m\u001b[39m'\u001b[39;49m\u001b[39m\\\u001b[39;49m\u001b[39mW+\u001b[39;49m\u001b[39m'\u001b[39;49m, \u001b[39m'\u001b[39;49m\u001b[39m_\u001b[39;49m\u001b[39m'\u001b[39;49m,object_tag),\n\u001b[0;32m     56\u001b[0m                                      object_sali_tags)\n\u001b[0;32m     60\u001b[0m driver\u001b[39m.\u001b[39mclose()\n",
      "File \u001b[1;32mc:\\Users\\dhana\\OneDrive\\Documents\\IIT Kanpur\\Research\\SallyPOC\\neo4j_utils.py:23\u001b[0m, in \u001b[0;36madd_triplet_to_neo4j\u001b[1;34m(driver, subject, subject_tag, subject_sali_tags, predicate, object, object_tag, object_sali_tags)\u001b[0m\n\u001b[0;32m     20\u001b[0m \u001b[39mwith\u001b[39;00m driver\u001b[39m.\u001b[39msession() \u001b[39mas\u001b[39;00m session:\n\u001b[0;32m     21\u001b[0m     \u001b[39m#Create a node with an array property\u001b[39;00m\n\u001b[0;32m     22\u001b[0m     create_node_query \u001b[39m=\u001b[39m \u001b[39mf\u001b[39m\u001b[39m\"\u001b[39m\u001b[39mCREATE (:\u001b[39m\u001b[39m{\u001b[39;00msubject\u001b[39m}\u001b[39;00m\u001b[39m \u001b[39m\u001b[39m{{\u001b[39;00m\u001b[39mtags: $subject_sali_tags_1\u001b[39m\u001b[39m}}\u001b[39;00m\u001b[39m)-[:\u001b[39m\u001b[39m{\u001b[39;00mpredicate\u001b[39m}\u001b[39;00m\u001b[39m]->(:\u001b[39m\u001b[39m{\u001b[39;00m\u001b[39mobject\u001b[39m\u001b[39m}\u001b[39;00m\u001b[39m \u001b[39m\u001b[39m{{\u001b[39;00m\u001b[39mtags: $object_sali_tags_1\u001b[39m\u001b[39m}}\u001b[39;00m\u001b[39m)\u001b[39m\u001b[39m\"\u001b[39m\n\u001b[1;32m---> 23\u001b[0m     session\u001b[39m.\u001b[39;49mrun(create_node_query, subject_sali_tags_1\u001b[39m=\u001b[39;49msubject_sali_tags, object_sali_tags_1\u001b[39m=\u001b[39;49mobject_sali_tags)\n\u001b[0;32m     26\u001b[0m     \u001b[39mprint\u001b[39m(\u001b[39m\"\u001b[39m\u001b[39mTriplet added successfully. Subject: \u001b[39m\u001b[39m\"\u001b[39m\u001b[39m+\u001b[39msubject\u001b[39m+\u001b[39m\u001b[39m\"\u001b[39m\u001b[39m Predicate: \u001b[39m\u001b[39m\"\u001b[39m\u001b[39m+\u001b[39mpredicate\u001b[39m+\u001b[39m\u001b[39m\"\u001b[39m\u001b[39m Object: \u001b[39m\u001b[39m\"\u001b[39m\u001b[39m+\u001b[39m\u001b[39mobject\u001b[39m)\n",
      "File \u001b[1;32mc:\\Users\\dhana\\anaconda3\\envs\\p1\\lib\\site-packages\\neo4j\\_sync\\work\\session.py:311\u001b[0m, in \u001b[0;36mSession.run\u001b[1;34m(self, query, parameters, **kwargs)\u001b[0m\n\u001b[0;32m    309\u001b[0m bookmarks \u001b[39m=\u001b[39m \u001b[39mself\u001b[39m\u001b[39m.\u001b[39m_get_bookmarks()\n\u001b[0;32m    310\u001b[0m parameters \u001b[39m=\u001b[39m \u001b[39mdict\u001b[39m(parameters \u001b[39mor\u001b[39;00m {}, \u001b[39m*\u001b[39m\u001b[39m*\u001b[39mkwargs)\n\u001b[1;32m--> 311\u001b[0m \u001b[39mself\u001b[39;49m\u001b[39m.\u001b[39;49m_auto_result\u001b[39m.\u001b[39;49m_run(\n\u001b[0;32m    312\u001b[0m     query, parameters, \u001b[39mself\u001b[39;49m\u001b[39m.\u001b[39;49m_config\u001b[39m.\u001b[39;49mdatabase,\n\u001b[0;32m    313\u001b[0m     \u001b[39mself\u001b[39;49m\u001b[39m.\u001b[39;49m_config\u001b[39m.\u001b[39;49mimpersonated_user, \u001b[39mself\u001b[39;49m\u001b[39m.\u001b[39;49m_config\u001b[39m.\u001b[39;49mdefault_access_mode,\n\u001b[0;32m    314\u001b[0m     bookmarks, \u001b[39mself\u001b[39;49m\u001b[39m.\u001b[39;49m_config\u001b[39m.\u001b[39;49mnotifications_min_severity,\n\u001b[0;32m    315\u001b[0m     \u001b[39mself\u001b[39;49m\u001b[39m.\u001b[39;49m_config\u001b[39m.\u001b[39;49mnotifications_disabled_categories,\n\u001b[0;32m    316\u001b[0m )\n\u001b[0;32m    318\u001b[0m \u001b[39mreturn\u001b[39;00m \u001b[39mself\u001b[39m\u001b[39m.\u001b[39m_auto_result\n",
      "File \u001b[1;32mc:\\Users\\dhana\\anaconda3\\envs\\p1\\lib\\site-packages\\neo4j\\_sync\\work\\result.py:166\u001b[0m, in \u001b[0;36mResult._run\u001b[1;34m(self, query, parameters, db, imp_user, access_mode, bookmarks, notifications_min_severity, notifications_disabled_categories)\u001b[0m\n\u001b[0;32m    164\u001b[0m \u001b[39mself\u001b[39m\u001b[39m.\u001b[39m_pull()\n\u001b[0;32m    165\u001b[0m \u001b[39mself\u001b[39m\u001b[39m.\u001b[39m_connection\u001b[39m.\u001b[39msend_all()\n\u001b[1;32m--> 166\u001b[0m \u001b[39mself\u001b[39;49m\u001b[39m.\u001b[39;49m_attach()\n",
      "File \u001b[1;32mc:\\Users\\dhana\\anaconda3\\envs\\p1\\lib\\site-packages\\neo4j\\_sync\\work\\result.py:274\u001b[0m, in \u001b[0;36mResult._attach\u001b[1;34m(self)\u001b[0m\n\u001b[0;32m    272\u001b[0m \u001b[39mif\u001b[39;00m \u001b[39mself\u001b[39m\u001b[39m.\u001b[39m_exhausted \u001b[39mis\u001b[39;00m \u001b[39mFalse\u001b[39;00m:\n\u001b[0;32m    273\u001b[0m     \u001b[39mwhile\u001b[39;00m \u001b[39mself\u001b[39m\u001b[39m.\u001b[39m_attached \u001b[39mis\u001b[39;00m \u001b[39mFalse\u001b[39;00m:\n\u001b[1;32m--> 274\u001b[0m         \u001b[39mself\u001b[39;49m\u001b[39m.\u001b[39;49m_connection\u001b[39m.\u001b[39;49mfetch_message()\n",
      "File \u001b[1;32mc:\\Users\\dhana\\anaconda3\\envs\\p1\\lib\\site-packages\\neo4j\\_sync\\io\\_common.py:180\u001b[0m, in \u001b[0;36mConnectionErrorHandler.__getattr__.<locals>.outer.<locals>.inner\u001b[1;34m(*args, **kwargs)\u001b[0m\n\u001b[0;32m    178\u001b[0m \u001b[39mdef\u001b[39;00m \u001b[39minner\u001b[39m(\u001b[39m*\u001b[39margs, \u001b[39m*\u001b[39m\u001b[39m*\u001b[39mkwargs):\n\u001b[0;32m    179\u001b[0m     \u001b[39mtry\u001b[39;00m:\n\u001b[1;32m--> 180\u001b[0m         func(\u001b[39m*\u001b[39margs, \u001b[39m*\u001b[39m\u001b[39m*\u001b[39mkwargs)\n\u001b[0;32m    181\u001b[0m     \u001b[39mexcept\u001b[39;00m (Neo4jError, ServiceUnavailable, SessionExpired) \u001b[39mas\u001b[39;00m exc:\n\u001b[0;32m    182\u001b[0m         \u001b[39massert\u001b[39;00m \u001b[39mnot\u001b[39;00m asyncio\u001b[39m.\u001b[39miscoroutinefunction(\u001b[39mself\u001b[39m\u001b[39m.\u001b[39m__on_error)\n",
      "File \u001b[1;32mc:\\Users\\dhana\\anaconda3\\envs\\p1\\lib\\site-packages\\neo4j\\_sync\\io\\_bolt.py:808\u001b[0m, in \u001b[0;36mBolt.fetch_message\u001b[1;34m(self)\u001b[0m\n\u001b[0;32m    804\u001b[0m \u001b[39m# Receive exactly one message\u001b[39;00m\n\u001b[0;32m    805\u001b[0m tag, fields \u001b[39m=\u001b[39m \u001b[39mself\u001b[39m\u001b[39m.\u001b[39minbox\u001b[39m.\u001b[39mpop(\n\u001b[0;32m    806\u001b[0m     hydration_hooks\u001b[39m=\u001b[39m\u001b[39mself\u001b[39m\u001b[39m.\u001b[39mresponses[\u001b[39m0\u001b[39m]\u001b[39m.\u001b[39mhydration_hooks\n\u001b[0;32m    807\u001b[0m )\n\u001b[1;32m--> 808\u001b[0m res \u001b[39m=\u001b[39m \u001b[39mself\u001b[39;49m\u001b[39m.\u001b[39;49m_process_message(tag, fields)\n\u001b[0;32m    809\u001b[0m \u001b[39mself\u001b[39m\u001b[39m.\u001b[39midle_since \u001b[39m=\u001b[39m perf_counter()\n\u001b[0;32m    810\u001b[0m \u001b[39mreturn\u001b[39;00m res\n",
      "File \u001b[1;32mc:\\Users\\dhana\\anaconda3\\envs\\p1\\lib\\site-packages\\neo4j\\_sync\\io\\_bolt5.py:361\u001b[0m, in \u001b[0;36mBolt5x0._process_message\u001b[1;34m(self, tag, fields)\u001b[0m\n\u001b[0;32m    359\u001b[0m \u001b[39mself\u001b[39m\u001b[39m.\u001b[39m_server_state_manager\u001b[39m.\u001b[39mstate \u001b[39m=\u001b[39m \u001b[39mself\u001b[39m\u001b[39m.\u001b[39mserver_states\u001b[39m.\u001b[39mFAILED\n\u001b[0;32m    360\u001b[0m \u001b[39mtry\u001b[39;00m:\n\u001b[1;32m--> 361\u001b[0m     response\u001b[39m.\u001b[39;49mon_failure(summary_metadata \u001b[39mor\u001b[39;49;00m {})\n\u001b[0;32m    362\u001b[0m \u001b[39mexcept\u001b[39;00m (ServiceUnavailable, DatabaseUnavailable):\n\u001b[0;32m    363\u001b[0m     \u001b[39mif\u001b[39;00m \u001b[39mself\u001b[39m\u001b[39m.\u001b[39mpool:\n",
      "File \u001b[1;32mc:\\Users\\dhana\\anaconda3\\envs\\p1\\lib\\site-packages\\neo4j\\_sync\\io\\_common.py:247\u001b[0m, in \u001b[0;36mResponse.on_failure\u001b[1;34m(self, metadata)\u001b[0m\n\u001b[0;32m    245\u001b[0m handler \u001b[39m=\u001b[39m \u001b[39mself\u001b[39m\u001b[39m.\u001b[39mhandlers\u001b[39m.\u001b[39mget(\u001b[39m\"\u001b[39m\u001b[39mon_summary\u001b[39m\u001b[39m\"\u001b[39m)\n\u001b[0;32m    246\u001b[0m Util\u001b[39m.\u001b[39mcallback(handler)\n\u001b[1;32m--> 247\u001b[0m \u001b[39mraise\u001b[39;00m Neo4jError\u001b[39m.\u001b[39mhydrate(\u001b[39m*\u001b[39m\u001b[39m*\u001b[39mmetadata)\n",
      "\u001b[1;31mCypherSyntaxError\u001b[0m: {code: Neo.ClientError.Statement.SyntaxError} {message: Invalid input ':': expected\n  \"(\"\n  \"ALL\"\n  \"ANY\"\n  \"SHORTEST\"\n  \"allShortestPaths\"\n  \"shortestPath\" (line 1, column 9 (offset: 8))\n\"CREATE (:1980 {tags: $subject_sali_tags_1})-[:affect]->(:the_liability_of_The_petitioners_for_excise_duty_on_the_stock_of_molasses_available_with_The_petitioners {tags: $object_sali_tags_1})\"\n         ^}"
     ]
    }
   ],
   "source": [
    "import pickle\n",
    "import sali_utils\n",
    "from neo4j import GraphDatabase\n",
    "import neo4j_utils\n",
    "import importlib\n",
    "importlib.reload(neo4j_utils)\n",
    "import re\n",
    "\n",
    "\n",
    "\n",
    "importlib.reload(neo4j_utils)\n",
    "driver = GraphDatabase.driver(uri, auth=(username, password))\n",
    "\n",
    "#neo4j_utils.delete_all_nodes_and_relationships(driver)\n",
    "\n",
    "with open('triplets.pkl', 'rb') as f:\n",
    "    triplets = pickle.load(f)\n",
    "\n",
    "\n",
    "for triplet in triplets:\n",
    "    \n",
    "    subject_tag = 'Unknown'\n",
    "    object_tag = 'Unknown'\n",
    "    predicate = 'Unknown'\n",
    "\n",
    "    subject_sali_tags = ['Unknown']\n",
    "    object_sali_tags = ['Unknown']\n",
    "\n",
    "\n",
    "    subject_tags= sali_utils.get_sali_suggestions(triplet[\"subject\"]) \n",
    "    if len(subject_tags) > 0:\n",
    "        subject_tag = subject_tags[0]\n",
    "\n",
    "    resp1 = sali_utils.get_list_of_ancestors(g,subject_tag)\n",
    "    if len(resp1) > 0:\n",
    "        subject_sali_tags = resp1\n",
    "\n",
    "    object_tags= sali_utils.get_sali_suggestions(triplet[\"object\"])\n",
    "    if len(object_tags) > 0:\n",
    "        object_tag = object_tags[0]\n",
    "\n",
    "    resp2 = sali_utils.get_list_of_ancestors(g,object_tag)\n",
    "    if len(resp2) > 0:\n",
    "        object_sali_tags = resp2\n",
    "\n",
    "    predicate = triplet[\"predicate\"]\n",
    "\n",
    "    # Call the function to create a node with an array property\n",
    "    neo4j_utils.add_triplet_to_neo4j(driver,\n",
    "                                 re.sub(r'\\W+', '_',triplet[\"subject\"]),\n",
    "                                 re.sub(r'\\W+', '_',subject_tag), \n",
    "                                 subject_sali_tags, \n",
    "                                 re.sub(r'\\W+', '_',predicate),\n",
    "                                 re.sub(r'\\W+', '_',triplet[\"object\"]),\n",
    "                                   re.sub(r'\\W+', '_',object_tag),\n",
    "                                     object_sali_tags)\n",
    "\n",
    "\n",
    "    \n",
    "driver.close()\n",
    "\n",
    "\n",
    "\n"
   ]
  },
  {
   "cell_type": "code",
   "execution_count": 77,
   "metadata": {},
   "outputs": [
    {
     "name": "stdout",
     "output_type": "stream",
     "text": [
      "Node: Judge Depth: 0\n",
      "Triplet added successfully. Subject: Trial_Court_Judge Predicate: is_parent Object: Judge\n",
      "Triplet added successfully. Subject: Appellate_Court_Judge Predicate: is_parent Object: Judge\n",
      "Node: Trial Court Judge Depth: 1\n",
      "Triplet added successfully. Subject: Magistrate_Judge Predicate: is_parent Object: Trial_Court_Judge\n",
      "Triplet added successfully. Subject: Justice_of_the_Peace Predicate: is_parent Object: Trial_Court_Judge\n",
      "Triplet added successfully. Subject: Administrative_Law_Judge Predicate: is_parent Object: Trial_Court_Judge\n",
      "Node: Appellate Court Judge Depth: 1\n",
      "Node: Magistrate Judge Depth: 2\n",
      "Node: Justice of the Peace Depth: 2\n",
      "Node: Administrative Law Judge Depth: 2\n",
      "Nodes merged successfully. Label: Trial_Court_Judge\n",
      "Nodes merged successfully. Label: Appellate_Court_Judge\n",
      "Nodes merged successfully. Label: Administrative_Law_Judge\n",
      "Nodes merged successfully. Label: Justice_of_the_Peace\n",
      "Nodes merged successfully. Label: Judge\n",
      "Nodes merged successfully. Label: Magistrate_Judge\n"
     ]
    }
   ],
   "source": [
    "import sali_utils\n",
    "import importlib\n",
    "importlib.reload(sali_utils)\n",
    "from collections import deque\n",
    "import sali_utils\n",
    "import neo4j_utils\n",
    "import importlib\n",
    "\n",
    "\n",
    "importlib.reload(neo4j_utils)\n",
    "\n",
    "\n",
    "def bfs(start_node, max_depth):\n",
    "    visited = set()\n",
    "    queue = deque([(start_node, 0)])\n",
    "\n",
    "    while queue:\n",
    "        node, depth = queue.popleft()\n",
    "        visited.add(node)\n",
    "\n",
    "        # Process the node (print or do something else)\n",
    "        print(\"Node:\", node, \"Depth:\", depth)\n",
    "        #neo4j_utils.create_node(driver,node,\"\",\"\")\n",
    "\n",
    "        if depth < max_depth:\n",
    "            # Get the child tags of the current node\n",
    "            child_tags = sali_utils.get_child_tag(g, node)\n",
    "\n",
    "            # Enqueue the child nodes with increased depth\n",
    "            for child_tag in child_tags:\n",
    "                if child_tag not in visited:\n",
    "                    queue.append((child_tag, depth + 1))\n",
    "                    neo4j_utils.create_node(driver,node,\"is parent\",child_tag)\n",
    "\n",
    "    #traverse visited set\n",
    "    for node in visited:\n",
    "        neo4j_utils.merge_nodes_by_name(driver,node)\n",
    "\n",
    "# Assuming you have already established a connection to Neo4j and have the graph object `g`\n",
    "\n",
    "# Set the start node and maximum depth\n",
    "start_node = \"Judge\"\n",
    "max_depth = 5\n",
    "\n",
    "driver = GraphDatabase.driver(uri, auth=(username, password))\n",
    "# Call the BFS function\n",
    "bfs(start_node, max_depth)\n",
    "# Close the driver\n",
    "driver.close()"
   ]
  },
  {
   "cell_type": "code",
   "execution_count": 54,
   "metadata": {},
   "outputs": [
    {
     "name": "stdout",
     "output_type": "stream",
     "text": [
      "All nodes and relationships deleted successfully.\n",
      "Triplet added successfully. Subject: by_K_N_SETH Predicate: delivered Object: The_Judgment\n"
     ]
    },
    {
     "ename": "KeyboardInterrupt",
     "evalue": "",
     "output_type": "error",
     "traceback": [
      "\u001b[1;31m---------------------------------------------------------------------------\u001b[0m",
      "\u001b[1;31mKeyboardInterrupt\u001b[0m                         Traceback (most recent call last)",
      "Cell \u001b[1;32mIn[54], line 30\u001b[0m\n\u001b[0;32m     26\u001b[0m subject_sali_tags \u001b[39m=\u001b[39m [\u001b[39m'\u001b[39m\u001b[39mUnknown\u001b[39m\u001b[39m'\u001b[39m]\n\u001b[0;32m     27\u001b[0m object_sali_tags \u001b[39m=\u001b[39m [\u001b[39m'\u001b[39m\u001b[39mUnknown\u001b[39m\u001b[39m'\u001b[39m]\n\u001b[1;32m---> 30\u001b[0m subject_tags\u001b[39m=\u001b[39m sali_utils\u001b[39m.\u001b[39;49mget_sali_suggestions(triplet[\u001b[39m\"\u001b[39;49m\u001b[39msubject\u001b[39;49m\u001b[39m\"\u001b[39;49m]) \n\u001b[0;32m     31\u001b[0m \u001b[39mif\u001b[39;00m \u001b[39mlen\u001b[39m(subject_tags) \u001b[39m>\u001b[39m \u001b[39m0\u001b[39m:\n\u001b[0;32m     32\u001b[0m     subject_tag \u001b[39m=\u001b[39m subject_tags[\u001b[39m0\u001b[39m]\n",
      "File \u001b[1;32mc:\\Users\\dhana\\OneDrive\\Documents\\IIT Kanpur\\Research\\SallyPOC\\sali_utils.py:58\u001b[0m, in \u001b[0;36mget_sali_suggestions\u001b[1;34m(text)\u001b[0m\n\u001b[0;32m     57\u001b[0m \u001b[39mdef\u001b[39;00m \u001b[39mget_sali_suggestions\u001b[39m(text):\n\u001b[1;32m---> 58\u001b[0m     concept_url \u001b[39m=\u001b[39m get_sali_concept_url(text)\n\u001b[0;32m     59\u001b[0m     \u001b[39mif\u001b[39;00m concept_url \u001b[39mis\u001b[39;00m \u001b[39mnot\u001b[39;00m \u001b[39mNone\u001b[39;00m:\n\u001b[0;32m     60\u001b[0m         \u001b[39mreturn\u001b[39;00m get_sali_suggestions_for_concept(concept_url,text)\n",
      "File \u001b[1;32mc:\\Users\\dhana\\OneDrive\\Documents\\IIT Kanpur\\Research\\SallyPOC\\sali_utils.py:15\u001b[0m, in \u001b[0;36mget_sali_concept_url\u001b[1;34m(text)\u001b[0m\n\u001b[0;32m      7\u001b[0m params \u001b[39m=\u001b[39m {\n\u001b[0;32m      8\u001b[0m     \u001b[39m'\u001b[39m\u001b[39mtext\u001b[39m\u001b[39m'\u001b[39m: text\n\u001b[0;32m      9\u001b[0m }\n\u001b[0;32m     11\u001b[0m headers \u001b[39m=\u001b[39m {\n\u001b[0;32m     12\u001b[0m     \u001b[39m'\u001b[39m\u001b[39mAccept\u001b[39m\u001b[39m'\u001b[39m: \u001b[39m'\u001b[39m\u001b[39mapplication/json\u001b[39m\u001b[39m'\u001b[39m\n\u001b[0;32m     13\u001b[0m }\n\u001b[1;32m---> 15\u001b[0m response \u001b[39m=\u001b[39m requests\u001b[39m.\u001b[39;49mget(url, params\u001b[39m=\u001b[39;49mparams, headers\u001b[39m=\u001b[39;49mheaders)\n\u001b[0;32m     17\u001b[0m \u001b[39m# Check the response status code\u001b[39;00m\n\u001b[0;32m     18\u001b[0m \u001b[39mif\u001b[39;00m response\u001b[39m.\u001b[39mstatus_code \u001b[39m==\u001b[39m requests\u001b[39m.\u001b[39mcodes\u001b[39m.\u001b[39mok:\n\u001b[0;32m     19\u001b[0m     \u001b[39m# Print the response content\u001b[39;00m\n",
      "File \u001b[1;32mc:\\Users\\dhana\\anaconda3\\envs\\p1\\lib\\site-packages\\requests\\api.py:73\u001b[0m, in \u001b[0;36mget\u001b[1;34m(url, params, **kwargs)\u001b[0m\n\u001b[0;32m     62\u001b[0m \u001b[39mdef\u001b[39;00m \u001b[39mget\u001b[39m(url, params\u001b[39m=\u001b[39m\u001b[39mNone\u001b[39;00m, \u001b[39m*\u001b[39m\u001b[39m*\u001b[39mkwargs):\n\u001b[0;32m     63\u001b[0m \u001b[39m    \u001b[39m\u001b[39mr\u001b[39m\u001b[39m\"\"\"Sends a GET request.\u001b[39;00m\n\u001b[0;32m     64\u001b[0m \n\u001b[0;32m     65\u001b[0m \u001b[39m    :param url: URL for the new :class:`Request` object.\u001b[39;00m\n\u001b[1;32m   (...)\u001b[0m\n\u001b[0;32m     70\u001b[0m \u001b[39m    :rtype: requests.Response\u001b[39;00m\n\u001b[0;32m     71\u001b[0m \u001b[39m    \"\"\"\u001b[39;00m\n\u001b[1;32m---> 73\u001b[0m     \u001b[39mreturn\u001b[39;00m request(\u001b[39m\"\u001b[39m\u001b[39mget\u001b[39m\u001b[39m\"\u001b[39m, url, params\u001b[39m=\u001b[39mparams, \u001b[39m*\u001b[39m\u001b[39m*\u001b[39mkwargs)\n",
      "File \u001b[1;32mc:\\Users\\dhana\\anaconda3\\envs\\p1\\lib\\site-packages\\requests\\api.py:59\u001b[0m, in \u001b[0;36mrequest\u001b[1;34m(method, url, **kwargs)\u001b[0m\n\u001b[0;32m     55\u001b[0m \u001b[39m# By using the 'with' statement we are sure the session is closed, thus we\u001b[39;00m\n\u001b[0;32m     56\u001b[0m \u001b[39m# avoid leaving sockets open which can trigger a ResourceWarning in some\u001b[39;00m\n\u001b[0;32m     57\u001b[0m \u001b[39m# cases, and look like a memory leak in others.\u001b[39;00m\n\u001b[0;32m     58\u001b[0m \u001b[39mwith\u001b[39;00m sessions\u001b[39m.\u001b[39mSession() \u001b[39mas\u001b[39;00m session:\n\u001b[1;32m---> 59\u001b[0m     \u001b[39mreturn\u001b[39;00m session\u001b[39m.\u001b[39mrequest(method\u001b[39m=\u001b[39mmethod, url\u001b[39m=\u001b[39murl, \u001b[39m*\u001b[39m\u001b[39m*\u001b[39mkwargs)\n",
      "File \u001b[1;32mc:\\Users\\dhana\\anaconda3\\envs\\p1\\lib\\site-packages\\requests\\sessions.py:587\u001b[0m, in \u001b[0;36mSession.request\u001b[1;34m(self, method, url, params, data, headers, cookies, files, auth, timeout, allow_redirects, proxies, hooks, stream, verify, cert, json)\u001b[0m\n\u001b[0;32m    582\u001b[0m send_kwargs \u001b[39m=\u001b[39m {\n\u001b[0;32m    583\u001b[0m     \u001b[39m\"\u001b[39m\u001b[39mtimeout\u001b[39m\u001b[39m\"\u001b[39m: timeout,\n\u001b[0;32m    584\u001b[0m     \u001b[39m\"\u001b[39m\u001b[39mallow_redirects\u001b[39m\u001b[39m\"\u001b[39m: allow_redirects,\n\u001b[0;32m    585\u001b[0m }\n\u001b[0;32m    586\u001b[0m send_kwargs\u001b[39m.\u001b[39mupdate(settings)\n\u001b[1;32m--> 587\u001b[0m resp \u001b[39m=\u001b[39m \u001b[39mself\u001b[39m\u001b[39m.\u001b[39msend(prep, \u001b[39m*\u001b[39m\u001b[39m*\u001b[39msend_kwargs)\n\u001b[0;32m    589\u001b[0m \u001b[39mreturn\u001b[39;00m resp\n",
      "File \u001b[1;32mc:\\Users\\dhana\\anaconda3\\envs\\p1\\lib\\site-packages\\requests\\sessions.py:701\u001b[0m, in \u001b[0;36mSession.send\u001b[1;34m(self, request, **kwargs)\u001b[0m\n\u001b[0;32m    698\u001b[0m start \u001b[39m=\u001b[39m preferred_clock()\n\u001b[0;32m    700\u001b[0m \u001b[39m# Send the request\u001b[39;00m\n\u001b[1;32m--> 701\u001b[0m r \u001b[39m=\u001b[39m adapter\u001b[39m.\u001b[39msend(request, \u001b[39m*\u001b[39m\u001b[39m*\u001b[39mkwargs)\n\u001b[0;32m    703\u001b[0m \u001b[39m# Total elapsed time of the request (approximately)\u001b[39;00m\n\u001b[0;32m    704\u001b[0m elapsed \u001b[39m=\u001b[39m preferred_clock() \u001b[39m-\u001b[39m start\n",
      "File \u001b[1;32mc:\\Users\\dhana\\anaconda3\\envs\\p1\\lib\\site-packages\\requests\\adapters.py:489\u001b[0m, in \u001b[0;36mHTTPAdapter.send\u001b[1;34m(self, request, stream, timeout, verify, cert, proxies)\u001b[0m\n\u001b[0;32m    487\u001b[0m \u001b[39mtry\u001b[39;00m:\n\u001b[0;32m    488\u001b[0m     \u001b[39mif\u001b[39;00m \u001b[39mnot\u001b[39;00m chunked:\n\u001b[1;32m--> 489\u001b[0m         resp \u001b[39m=\u001b[39m conn\u001b[39m.\u001b[39;49murlopen(\n\u001b[0;32m    490\u001b[0m             method\u001b[39m=\u001b[39;49mrequest\u001b[39m.\u001b[39;49mmethod,\n\u001b[0;32m    491\u001b[0m             url\u001b[39m=\u001b[39;49murl,\n\u001b[0;32m    492\u001b[0m             body\u001b[39m=\u001b[39;49mrequest\u001b[39m.\u001b[39;49mbody,\n\u001b[0;32m    493\u001b[0m             headers\u001b[39m=\u001b[39;49mrequest\u001b[39m.\u001b[39;49mheaders,\n\u001b[0;32m    494\u001b[0m             redirect\u001b[39m=\u001b[39;49m\u001b[39mFalse\u001b[39;49;00m,\n\u001b[0;32m    495\u001b[0m             assert_same_host\u001b[39m=\u001b[39;49m\u001b[39mFalse\u001b[39;49;00m,\n\u001b[0;32m    496\u001b[0m             preload_content\u001b[39m=\u001b[39;49m\u001b[39mFalse\u001b[39;49;00m,\n\u001b[0;32m    497\u001b[0m             decode_content\u001b[39m=\u001b[39;49m\u001b[39mFalse\u001b[39;49;00m,\n\u001b[0;32m    498\u001b[0m             retries\u001b[39m=\u001b[39;49m\u001b[39mself\u001b[39;49m\u001b[39m.\u001b[39;49mmax_retries,\n\u001b[0;32m    499\u001b[0m             timeout\u001b[39m=\u001b[39;49mtimeout,\n\u001b[0;32m    500\u001b[0m         )\n\u001b[0;32m    502\u001b[0m     \u001b[39m# Send the request.\u001b[39;00m\n\u001b[0;32m    503\u001b[0m     \u001b[39melse\u001b[39;00m:\n\u001b[0;32m    504\u001b[0m         \u001b[39mif\u001b[39;00m \u001b[39mhasattr\u001b[39m(conn, \u001b[39m\"\u001b[39m\u001b[39mproxy_pool\u001b[39m\u001b[39m\"\u001b[39m):\n",
      "File \u001b[1;32mc:\\Users\\dhana\\anaconda3\\envs\\p1\\lib\\site-packages\\urllib3\\connectionpool.py:703\u001b[0m, in \u001b[0;36mHTTPConnectionPool.urlopen\u001b[1;34m(self, method, url, body, headers, retries, redirect, assert_same_host, timeout, pool_timeout, release_conn, chunked, body_pos, **response_kw)\u001b[0m\n\u001b[0;32m    700\u001b[0m     \u001b[39mself\u001b[39m\u001b[39m.\u001b[39m_prepare_proxy(conn)\n\u001b[0;32m    702\u001b[0m \u001b[39m# Make the request on the httplib connection object.\u001b[39;00m\n\u001b[1;32m--> 703\u001b[0m httplib_response \u001b[39m=\u001b[39m \u001b[39mself\u001b[39;49m\u001b[39m.\u001b[39;49m_make_request(\n\u001b[0;32m    704\u001b[0m     conn,\n\u001b[0;32m    705\u001b[0m     method,\n\u001b[0;32m    706\u001b[0m     url,\n\u001b[0;32m    707\u001b[0m     timeout\u001b[39m=\u001b[39;49mtimeout_obj,\n\u001b[0;32m    708\u001b[0m     body\u001b[39m=\u001b[39;49mbody,\n\u001b[0;32m    709\u001b[0m     headers\u001b[39m=\u001b[39;49mheaders,\n\u001b[0;32m    710\u001b[0m     chunked\u001b[39m=\u001b[39;49mchunked,\n\u001b[0;32m    711\u001b[0m )\n\u001b[0;32m    713\u001b[0m \u001b[39m# If we're going to release the connection in ``finally:``, then\u001b[39;00m\n\u001b[0;32m    714\u001b[0m \u001b[39m# the response doesn't need to know about the connection. Otherwise\u001b[39;00m\n\u001b[0;32m    715\u001b[0m \u001b[39m# it will also try to release it and we'll have a double-release\u001b[39;00m\n\u001b[0;32m    716\u001b[0m \u001b[39m# mess.\u001b[39;00m\n\u001b[0;32m    717\u001b[0m response_conn \u001b[39m=\u001b[39m conn \u001b[39mif\u001b[39;00m \u001b[39mnot\u001b[39;00m release_conn \u001b[39melse\u001b[39;00m \u001b[39mNone\u001b[39;00m\n",
      "File \u001b[1;32mc:\\Users\\dhana\\anaconda3\\envs\\p1\\lib\\site-packages\\urllib3\\connectionpool.py:386\u001b[0m, in \u001b[0;36mHTTPConnectionPool._make_request\u001b[1;34m(self, conn, method, url, timeout, chunked, **httplib_request_kw)\u001b[0m\n\u001b[0;32m    384\u001b[0m \u001b[39m# Trigger any extra validation we need to do.\u001b[39;00m\n\u001b[0;32m    385\u001b[0m \u001b[39mtry\u001b[39;00m:\n\u001b[1;32m--> 386\u001b[0m     \u001b[39mself\u001b[39;49m\u001b[39m.\u001b[39;49m_validate_conn(conn)\n\u001b[0;32m    387\u001b[0m \u001b[39mexcept\u001b[39;00m (SocketTimeout, BaseSSLError) \u001b[39mas\u001b[39;00m e:\n\u001b[0;32m    388\u001b[0m     \u001b[39m# Py2 raises this as a BaseSSLError, Py3 raises it as socket timeout.\u001b[39;00m\n\u001b[0;32m    389\u001b[0m     \u001b[39mself\u001b[39m\u001b[39m.\u001b[39m_raise_timeout(err\u001b[39m=\u001b[39me, url\u001b[39m=\u001b[39murl, timeout_value\u001b[39m=\u001b[39mconn\u001b[39m.\u001b[39mtimeout)\n",
      "File \u001b[1;32mc:\\Users\\dhana\\anaconda3\\envs\\p1\\lib\\site-packages\\urllib3\\connectionpool.py:1042\u001b[0m, in \u001b[0;36mHTTPSConnectionPool._validate_conn\u001b[1;34m(self, conn)\u001b[0m\n\u001b[0;32m   1040\u001b[0m \u001b[39m# Force connect early to allow us to validate the connection.\u001b[39;00m\n\u001b[0;32m   1041\u001b[0m \u001b[39mif\u001b[39;00m \u001b[39mnot\u001b[39;00m \u001b[39mgetattr\u001b[39m(conn, \u001b[39m\"\u001b[39m\u001b[39msock\u001b[39m\u001b[39m\"\u001b[39m, \u001b[39mNone\u001b[39;00m):  \u001b[39m# AppEngine might not have  `.sock`\u001b[39;00m\n\u001b[1;32m-> 1042\u001b[0m     conn\u001b[39m.\u001b[39;49mconnect()\n\u001b[0;32m   1044\u001b[0m \u001b[39mif\u001b[39;00m \u001b[39mnot\u001b[39;00m conn\u001b[39m.\u001b[39mis_verified:\n\u001b[0;32m   1045\u001b[0m     warnings\u001b[39m.\u001b[39mwarn(\n\u001b[0;32m   1046\u001b[0m         (\n\u001b[0;32m   1047\u001b[0m             \u001b[39m\"\u001b[39m\u001b[39mUnverified HTTPS request is being made to host \u001b[39m\u001b[39m'\u001b[39m\u001b[39m%s\u001b[39;00m\u001b[39m'\u001b[39m\u001b[39m. \u001b[39m\u001b[39m\"\u001b[39m\n\u001b[1;32m   (...)\u001b[0m\n\u001b[0;32m   1052\u001b[0m         InsecureRequestWarning,\n\u001b[0;32m   1053\u001b[0m     )\n",
      "File \u001b[1;32mc:\\Users\\dhana\\anaconda3\\envs\\p1\\lib\\site-packages\\urllib3\\connection.py:358\u001b[0m, in \u001b[0;36mHTTPSConnection.connect\u001b[1;34m(self)\u001b[0m\n\u001b[0;32m    356\u001b[0m \u001b[39mdef\u001b[39;00m \u001b[39mconnect\u001b[39m(\u001b[39mself\u001b[39m):\n\u001b[0;32m    357\u001b[0m     \u001b[39m# Add certificate verification\u001b[39;00m\n\u001b[1;32m--> 358\u001b[0m     \u001b[39mself\u001b[39m\u001b[39m.\u001b[39msock \u001b[39m=\u001b[39m conn \u001b[39m=\u001b[39m \u001b[39mself\u001b[39;49m\u001b[39m.\u001b[39;49m_new_conn()\n\u001b[0;32m    359\u001b[0m     hostname \u001b[39m=\u001b[39m \u001b[39mself\u001b[39m\u001b[39m.\u001b[39mhost\n\u001b[0;32m    360\u001b[0m     tls_in_tls \u001b[39m=\u001b[39m \u001b[39mFalse\u001b[39;00m\n",
      "File \u001b[1;32mc:\\Users\\dhana\\anaconda3\\envs\\p1\\lib\\site-packages\\urllib3\\connection.py:174\u001b[0m, in \u001b[0;36mHTTPConnection._new_conn\u001b[1;34m(self)\u001b[0m\n\u001b[0;32m    171\u001b[0m     extra_kw[\u001b[39m\"\u001b[39m\u001b[39msocket_options\u001b[39m\u001b[39m\"\u001b[39m] \u001b[39m=\u001b[39m \u001b[39mself\u001b[39m\u001b[39m.\u001b[39msocket_options\n\u001b[0;32m    173\u001b[0m \u001b[39mtry\u001b[39;00m:\n\u001b[1;32m--> 174\u001b[0m     conn \u001b[39m=\u001b[39m connection\u001b[39m.\u001b[39mcreate_connection(\n\u001b[0;32m    175\u001b[0m         (\u001b[39mself\u001b[39m\u001b[39m.\u001b[39m_dns_host, \u001b[39mself\u001b[39m\u001b[39m.\u001b[39mport), \u001b[39mself\u001b[39m\u001b[39m.\u001b[39mtimeout, \u001b[39m*\u001b[39m\u001b[39m*\u001b[39mextra_kw\n\u001b[0;32m    176\u001b[0m     )\n\u001b[0;32m    178\u001b[0m \u001b[39mexcept\u001b[39;00m SocketTimeout:\n\u001b[0;32m    179\u001b[0m     \u001b[39mraise\u001b[39;00m ConnectTimeoutError(\n\u001b[0;32m    180\u001b[0m         \u001b[39mself\u001b[39m,\n\u001b[0;32m    181\u001b[0m         \u001b[39m\"\u001b[39m\u001b[39mConnection to \u001b[39m\u001b[39m%s\u001b[39;00m\u001b[39m timed out. (connect timeout=\u001b[39m\u001b[39m%s\u001b[39;00m\u001b[39m)\u001b[39m\u001b[39m\"\u001b[39m\n\u001b[0;32m    182\u001b[0m         \u001b[39m%\u001b[39m (\u001b[39mself\u001b[39m\u001b[39m.\u001b[39mhost, \u001b[39mself\u001b[39m\u001b[39m.\u001b[39mtimeout),\n\u001b[0;32m    183\u001b[0m     )\n",
      "File \u001b[1;32mc:\\Users\\dhana\\anaconda3\\envs\\p1\\lib\\site-packages\\urllib3\\util\\connection.py:85\u001b[0m, in \u001b[0;36mcreate_connection\u001b[1;34m(address, timeout, source_address, socket_options)\u001b[0m\n\u001b[0;32m     83\u001b[0m     \u001b[39mif\u001b[39;00m source_address:\n\u001b[0;32m     84\u001b[0m         sock\u001b[39m.\u001b[39mbind(source_address)\n\u001b[1;32m---> 85\u001b[0m     sock\u001b[39m.\u001b[39;49mconnect(sa)\n\u001b[0;32m     86\u001b[0m     \u001b[39mreturn\u001b[39;00m sock\n\u001b[0;32m     88\u001b[0m \u001b[39mexcept\u001b[39;00m socket\u001b[39m.\u001b[39merror \u001b[39mas\u001b[39;00m e:\n",
      "\u001b[1;31mKeyboardInterrupt\u001b[0m: "
     ]
    }
   ],
   "source": []
  },
  {
   "cell_type": "code",
   "execution_count": 19,
   "metadata": {},
   "outputs": [
    {
     "name": "stdout",
     "output_type": "stream",
     "text": [
      "Document Name\n",
      "['Document Attributes', 'Document / Artifact']\n",
      "delivered\n",
      "Document Description\n",
      "['Document Attributes', 'Document / Artifact']\n"
     ]
    }
   ],
   "source": []
  },
  {
   "cell_type": "code",
   "execution_count": 44,
   "metadata": {},
   "outputs": [
    {
     "name": "stdout",
     "output_type": "stream",
     "text": [
      "All nodes and relationships deleted successfully.\n",
      "Triplet added successfully.\n"
     ]
    }
   ],
   "source": [
    "\n",
    "\n",
    "\n"
   ]
  }
 ],
 "metadata": {
  "kernelspec": {
   "display_name": "p1",
   "language": "python",
   "name": "python3"
  },
  "language_info": {
   "codemirror_mode": {
    "name": "ipython",
    "version": 3
   },
   "file_extension": ".py",
   "mimetype": "text/x-python",
   "name": "python",
   "nbconvert_exporter": "python",
   "pygments_lexer": "ipython3",
   "version": "3.9.16"
  },
  "orig_nbformat": 4
 },
 "nbformat": 4,
 "nbformat_minor": 2
}
