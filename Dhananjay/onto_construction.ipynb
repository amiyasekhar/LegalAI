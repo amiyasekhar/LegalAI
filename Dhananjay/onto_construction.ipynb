{
 "cells": [
  {
   "cell_type": "markdown",
   "metadata": {},
   "source": [
    "Issues in line 0, 113281"
   ]
  },
  {
   "cell_type": "code",
   "execution_count": 2,
   "metadata": {},
   "outputs": [
    {
     "data": {
      "text/plain": [
       "<Graph identifier=Ndd822c8a0c844a7f920a73c74888dafc (<class 'rdflib.graph.Graph'>)>"
      ]
     },
     "execution_count": 2,
     "metadata": {},
     "output_type": "execute_result"
    }
   ],
   "source": [
    "from rdflib import Graph, Literal, RDF, URIRef,Namespace, BNode\n",
    "from rdflib.namespace import FOAF , XSD,OWL,SKOS,RDFS\n",
    "\n",
    "lmss = Namespace(\"http://lmss.sali.org/\")\n",
    "# Create a Graph\n",
    "g = Graph()\n",
    "# Parse in an RDF file hosted on the Internet\n",
    "g.parse(\"LMSS.owl\")"
   ]
  },
  {
   "cell_type": "code",
   "execution_count": 3,
   "metadata": {},
   "outputs": [],
   "source": [
    "#Python wraper for classes in ontology\n",
    "class OWLClass:\n",
    "    node_label = OWL.Class.n3(namespace_manager=g.namespace_manager).replace(\":\",\"_\")\n",
    "    \n",
    "    def __init__(self, iri, label, defination):\n",
    "        self.iri = iri\n",
    "        self.label = label\n",
    "        self.defination = defination\n",
    "        self.parents = []\n",
    "        self.relations = []\n",
    "        self.label_embedding = []\n",
    "        self.defination_embedding = []\n",
    "\n",
    "class Relation:\n",
    "    def __init__(self, iri, label, to_iri):\n",
    "        self.iri = iri\n",
    "        self.label = label\n",
    "        self.to_iri = to_iri"
   ]
  },
  {
   "cell_type": "code",
   "execution_count": 4,
   "metadata": {},
   "outputs": [],
   "source": [
    "#FILL CLASS DETAILS \n",
    "onto_classes = g.subjects(RDF.type, OWL.Class)\n",
    "classes = []\n",
    "for c in onto_classes:\n",
    "    \n",
    "    label = g.value(c, RDFS.label)\n",
    "    if label is None:\n",
    "        label = c.split(\"#\")[-1]\n",
    "        \n",
    "    \n",
    "    classes.append(\n",
    "        OWLClass( c,label, g.value(c, SKOS.definition))\n",
    "        )\n",
    "    \n",
    "classes = classes[35:]\n"
   ]
  },
  {
   "cell_type": "code",
   "execution_count": 5,
   "metadata": {},
   "outputs": [],
   "source": [
    "#FILL RELATIONSHIPS DETAILS AND PARENTS\n",
    "\n",
    "for clas in classes:\n",
    "    \n",
    "    parents = g.objects(clas.iri, RDFS.subClassOf)\n",
    "    \n",
    "    for p in list(parents):\n",
    "        \n",
    "        if type(p) == BNode:\n",
    "                \n",
    "            what = g.value(p, OWL.onProperty)\n",
    "            where = g.value(p, OWL.someValuesFrom)\n",
    "\n",
    "            if what is None or where is None:\n",
    "                continue\n",
    "\n",
    "    \n",
    "            if what.rsplit('/', 1)[0]+'/' == str(lmss):\n",
    "                label=g.value(what, RDFS.label)\n",
    "            else :   \n",
    "                label=what.n3(namespace_manager=g.namespace_manager)\n",
    "            \n",
    "            clas.relations.append(\n",
    "                Relation(what,label,where)\n",
    "                )\n",
    "            \n",
    "        elif type(p) == URIRef:\n",
    "            clas.parents.append(p)\n",
    "            clas.relations.append(\n",
    "                Relation(\n",
    "                    RDFS.subClassOf,RDFS.subClassOf.n3(namespace_manager=g.namespace_manager),p\n",
    "                    )\n",
    "                )\n",
    "                "
   ]
  },
  {
   "cell_type": "code",
   "execution_count": 6,
   "metadata": {},
   "outputs": [],
   "source": [
    "irir_embedding_mapping = {}\n",
    "# #read sali mapping\n",
    "# import json\n",
    "# json_file_path1 = 'sali_embeddings/sali_mapping_empty.json'\n",
    "# json_file_path = \"sali_embeddings/sali_mapping.json\"\n",
    "\n",
    "# # Open the JSON file for reading\n",
    "# with open(json_file_path, 'r') as json_file:\n",
    "#     # Load the JSON data from the file\n",
    "#     lines = json_file.readlines()\n",
    "\n",
    "# with open(json_file_path1, 'r') as json_file:\n",
    "#     # Load the JSON data from the file\n",
    "#     lines += json_file.readlines()\n",
    "    \n",
    "# for line in lines:\n",
    "#     json_obj = json.loads(line)\n",
    "#     irir_embedding_mapping[json_obj[\"iri\"]] = json_obj\n",
    "\n",
    "# print(len(irir_embedding_mapping))"
   ]
  },
  {
   "cell_type": "code",
   "execution_count": 7,
   "metadata": {},
   "outputs": [],
   "source": [
    "with open(\"sali_embeddings/sali_relationship_mapping.json\", 'r') as json_file:\n",
    "    # Load the JSON data from the file\n",
    "    lines = json_file.readlines()"
   ]
  },
  {
   "cell_type": "code",
   "execution_count": 8,
   "metadata": {},
   "outputs": [],
   "source": [
    "from neo4j import GraphDatabase\n",
    "import json\n",
    "import traceback\n",
    "import tqdm\n",
    "import time\n",
    "\n",
    "uri = \"bolt://64.227.177.188:7687\"\n",
    "username = \"neo4j\"\n",
    "password = \"data-virtual-nirvana-paul-brave-1820\"\n",
    "\n",
    "def create_nodes(tx, owl_classes):\n",
    "\n",
    "    \n",
    "\n",
    "    for i,owl_class in enumerate(owl_classes):\n",
    "        query = (\n",
    "            \"CREATE (:{} {{iri: $iri, label: $label, definition: $definition, label_embedding: $label_embedding, definition_embedding:$definition_embedding}})\"\n",
    "            .format(OWLClass.node_label)\n",
    "        )\n",
    "        label_embedding = irir_embedding_mapping[str(owl_class.iri)][\"label_embedding\"]\n",
    "        if \"definition_embedding\" in irir_embedding_mapping[str(owl_class.iri)].keys():\n",
    "            definition_embedding =  irir_embedding_mapping[str(owl_class.iri)][\"definition_embedding\"]\n",
    "        else:\n",
    "            definition_embedding = []\n",
    "        \n",
    "        \n",
    "        #print the query which will be executed\n",
    "        #print(query)\n",
    "        tx.run(query, iri=owl_class.iri, label=owl_class.label, definition=owl_class.defination, label_embedding = label_embedding, definition_embedding=definition_embedding)\n",
    "\n",
    "\n",
    "\n",
    "\n",
    "\n",
    "def create_relationships(owl_classes):\n",
    "    \n",
    "    i=4928\n",
    "    \n",
    "    driver = GraphDatabase.driver(uri, auth=(username, password))\n",
    "    session =driver.session()  \n",
    "    \n",
    "    for owl_class in tqdm.tqdm(owl_classes[i+1:]):#same as db count\n",
    "\n",
    "        if owl_class.relations == []:\n",
    "            continue\n",
    "\n",
    "\n",
    "\n",
    "        for relation in owl_class.relations:\n",
    "\n",
    "            \n",
    "            #get the label and defination of rel.to_iri\n",
    "            \n",
    "            label = relation.label.replace(\":\", \"_\")\n",
    "\n",
    "            \n",
    "            try:\n",
    "\n",
    "\n",
    "                i=i+1\n",
    "                json_obj = json.loads(lines[i])\n",
    "                label_embedding =json_obj[\"embedding\"]\n",
    "                definition_embedding = []\n",
    "\n",
    "                to_iri_defination = g.value(relation.to_iri, SKOS.definition)\n",
    "\n",
    "                if to_iri_defination is not None and owl_class.defination is not None:\n",
    "                    i=i+1\n",
    "                    json_obj = json.loads(lines[i])\n",
    "                    definition_embedding =json_obj[\"embedding\"]\n",
    "\n",
    "                \n",
    "                query_r = (\n",
    "                    f\"MATCH (a:{OWLClass.node_label} {{iri: '{owl_class.iri}'}}), \"\n",
    "                    f\"(b:{OWLClass.node_label} {{iri: '{relation.to_iri}'}}) \"\n",
    "                    f\"CREATE (a)-[:{label}  {{ iri: '{relation.iri}' , label_embedding: { label_embedding } , definition_embedding: {definition_embedding}  }} ]->(b)\"\n",
    "                )\n",
    "\n",
    "                \n",
    "                session.run(query_r)\n",
    "                time.sleep(5)\n",
    "\n",
    "                if i % 100 == 0:\n",
    "                    session.close()\n",
    "                    driver.close()\n",
    "                    print(\"memory freeeeee\")\n",
    "                    time.sleep(10)\n",
    "                    driver = GraphDatabase.driver(uri, auth=(username, password))\n",
    "                    session =driver.session() \n",
    "\n",
    "                # Wait for 5 seconds\n",
    "                #time.sleep(5)\n",
    "\n",
    "                \n",
    "                \n",
    "                    \n",
    "            except Exception as e:\n",
    "                print(e)\n",
    "                traceback.print_exc()\n",
    "\n",
    "\n",
    "            \n",
    "                \n",
    "        \n",
    "def delete_all_nodes(tx):\n",
    "    query = \"MATCH (n) DETACH DELETE n\"\n",
    "    tx.run(query)\n",
    "    "
   ]
  },
  {
   "cell_type": "code",
   "execution_count": 9,
   "metadata": {},
   "outputs": [
    {
     "name": "stderr",
     "output_type": "stream",
     "text": [
      "  0%|          | 28/9854 [03:34<20:55:12,  7.66s/it]\n"
     ]
    },
    {
     "ename": "KeyboardInterrupt",
     "evalue": "",
     "output_type": "error",
     "traceback": [
      "\u001b[0;31m---------------------------------------------------------------------------\u001b[0m",
      "\u001b[0;31mKeyboardInterrupt\u001b[0m                         Traceback (most recent call last)",
      "Cell \u001b[0;32mIn[9], line 2\u001b[0m\n\u001b[1;32m      1\u001b[0m \u001b[38;5;66;03m#session.write_transaction(create_nodes, classes)\u001b[39;00m\n\u001b[0;32m----> 2\u001b[0m \u001b[43mcreate_relationships\u001b[49m\u001b[43m(\u001b[49m\u001b[43mclasses\u001b[49m\u001b[43m)\u001b[49m\n\u001b[1;32m      3\u001b[0m \u001b[38;5;66;03m#session.write_transaction(delete_all_nodes)\u001b[39;00m\n",
      "Cell \u001b[0;32mIn[8], line 81\u001b[0m, in \u001b[0;36mcreate_relationships\u001b[0;34m(owl_classes)\u001b[0m\n\u001b[1;32m     73\u001b[0m query_r \u001b[38;5;241m=\u001b[39m (\n\u001b[1;32m     74\u001b[0m     \u001b[38;5;124mf\u001b[39m\u001b[38;5;124m\"\u001b[39m\u001b[38;5;124mMATCH (a:\u001b[39m\u001b[38;5;132;01m{\u001b[39;00mOWLClass\u001b[38;5;241m.\u001b[39mnode_label\u001b[38;5;132;01m}\u001b[39;00m\u001b[38;5;124m \u001b[39m\u001b[38;5;130;01m{{\u001b[39;00m\u001b[38;5;124miri: \u001b[39m\u001b[38;5;124m'\u001b[39m\u001b[38;5;132;01m{\u001b[39;00mowl_class\u001b[38;5;241m.\u001b[39miri\u001b[38;5;132;01m}\u001b[39;00m\u001b[38;5;124m'\u001b[39m\u001b[38;5;130;01m}}\u001b[39;00m\u001b[38;5;124m), \u001b[39m\u001b[38;5;124m\"\u001b[39m\n\u001b[1;32m     75\u001b[0m     \u001b[38;5;124mf\u001b[39m\u001b[38;5;124m\"\u001b[39m\u001b[38;5;124m(b:\u001b[39m\u001b[38;5;132;01m{\u001b[39;00mOWLClass\u001b[38;5;241m.\u001b[39mnode_label\u001b[38;5;132;01m}\u001b[39;00m\u001b[38;5;124m \u001b[39m\u001b[38;5;130;01m{{\u001b[39;00m\u001b[38;5;124miri: \u001b[39m\u001b[38;5;124m'\u001b[39m\u001b[38;5;132;01m{\u001b[39;00mrelation\u001b[38;5;241m.\u001b[39mto_iri\u001b[38;5;132;01m}\u001b[39;00m\u001b[38;5;124m'\u001b[39m\u001b[38;5;130;01m}}\u001b[39;00m\u001b[38;5;124m) \u001b[39m\u001b[38;5;124m\"\u001b[39m\n\u001b[1;32m     76\u001b[0m     \u001b[38;5;124mf\u001b[39m\u001b[38;5;124m\"\u001b[39m\u001b[38;5;124mCREATE (a)-[:\u001b[39m\u001b[38;5;132;01m{\u001b[39;00mlabel\u001b[38;5;132;01m}\u001b[39;00m\u001b[38;5;124m  \u001b[39m\u001b[38;5;130;01m{{\u001b[39;00m\u001b[38;5;124m iri: \u001b[39m\u001b[38;5;124m'\u001b[39m\u001b[38;5;132;01m{\u001b[39;00mrelation\u001b[38;5;241m.\u001b[39miri\u001b[38;5;132;01m}\u001b[39;00m\u001b[38;5;124m'\u001b[39m\u001b[38;5;124m , label_embedding: \u001b[39m\u001b[38;5;132;01m{\u001b[39;00m\u001b[38;5;250m \u001b[39mlabel_embedding\u001b[38;5;250m \u001b[39m\u001b[38;5;132;01m}\u001b[39;00m\u001b[38;5;124m , definition_embedding: \u001b[39m\u001b[38;5;132;01m{\u001b[39;00mdefinition_embedding\u001b[38;5;132;01m}\u001b[39;00m\u001b[38;5;124m  \u001b[39m\u001b[38;5;130;01m}}\u001b[39;00m\u001b[38;5;124m ]->(b)\u001b[39m\u001b[38;5;124m\"\u001b[39m\n\u001b[1;32m     77\u001b[0m )\n\u001b[1;32m     80\u001b[0m session\u001b[38;5;241m.\u001b[39mrun(query_r)\n\u001b[0;32m---> 81\u001b[0m \u001b[43mtime\u001b[49m\u001b[38;5;241;43m.\u001b[39;49m\u001b[43msleep\u001b[49m\u001b[43m(\u001b[49m\u001b[38;5;241;43m5\u001b[39;49m\u001b[43m)\u001b[49m\n\u001b[1;32m     83\u001b[0m \u001b[38;5;28;01mif\u001b[39;00m i \u001b[38;5;241m%\u001b[39m \u001b[38;5;241m100\u001b[39m \u001b[38;5;241m==\u001b[39m \u001b[38;5;241m0\u001b[39m:\n\u001b[1;32m     84\u001b[0m     session\u001b[38;5;241m.\u001b[39mclose()\n",
      "\u001b[0;31mKeyboardInterrupt\u001b[0m: "
     ]
    }
   ],
   "source": [
    "\n",
    "\n",
    "\n",
    "    \n",
    "        \n",
    "#session.write_transaction(create_nodes, classes)\n",
    "create_relationships(classes)\n",
    "#session.write_transaction(delete_all_nodes)"
   ]
  },
  {
   "cell_type": "code",
   "execution_count": null,
   "metadata": {},
   "outputs": [],
   "source": []
  },
  {
   "cell_type": "code",
   "execution_count": null,
   "metadata": {},
   "outputs": [
    {
     "name": "stdout",
     "output_type": "stream",
     "text": [
      "['Mr. Milind Raj ', 'Mr. S.R.S. Gil', 'Mr. Lalit Belwal', 'Mr. Ashish Belwal']\n"
     ]
    }
   ],
   "source": []
  },
  {
   "cell_type": "code",
   "execution_count": null,
   "metadata": {},
   "outputs": [
    {
     "name": "stdout",
     "output_type": "stream",
     "text": [
      "Government Official\n"
     ]
    }
   ],
   "source": []
  },
  {
   "cell_type": "code",
   "execution_count": null,
   "metadata": {},
   "outputs": [],
   "source": [
    "from rdflib import Graph, Literal, RDF, URIRef\n",
    "from rdflib.namespace import FOAF , XSD,OWL,SKOS,RDFS\n",
    "\n",
    "# Create a Graph\n",
    "g = Graph()\n",
    "\n",
    "# Parse in an RDF file hosted on the Internet\n",
    "g.parse(\"main.owl\")\n",
    "\n",
    "q = \"\"\"\n",
    "    PREFIX xml: <http://www.w3.org/XML/1998/namespace>\n",
    "    PREFIX rdf: <http://www.w3.org/1999/02/22-rdf-syntax-ns#>\n",
    "    PREFIX rdfs: <http://www.w3.org/2000/01/rdf-schema#>\n",
    "    PREFIX xsd: <http://www.w3.org/2001/XMLSchema#>\n",
    "    PREFIX owl: <http://www.w3.org/2002/07/owl#>\n",
    "    PREFIX dc: <http://purl.org/dc/elements/1.1/>\n",
    "    PREFIX v1: <http://www.loc.gov/mads/rdf/v1#>\n",
    "    PREFIX lmss: <http://lmss.sali.org/>\n",
    "    PREFIX skos: <http://www.w3.org/2004/02/skos/core#>\n",
    "    PREFIX lmss1: <http://lmss.sali.org/2506>\n",
    "    PREFIX schema: <http://schema.org/>\n",
    "    PREFIX ontology: <http://www.geonames.org/ontology#>\n",
    "    PREFIX foaf: <http://xmlns.com/foaf/0.1/>\n",
    "\n",
    "\n",
    "    SELECT ?r ?s ?t ?l\n",
    "    WHERE {\n",
    "        ?p rdf:type owl:Class .\n",
    "        ?p rdfs:label \"Judge\" .\n",
    "        ?p rdfs:subClassOf ?r .\n",
    "        ?r rdf:type owl:Restriction .\n",
    "        ?r owl:onProperty ?t.\n",
    "        ?r owl:someValuesFrom ?s.\n",
    "    }\n",
    "\"\"\"\n",
    "for r in g.query(q):\n",
    "    print(r[\"r\"])\n",
    "    print(URIRef(r[\"s\"]).n3(g.namespace_manager))\n",
    "    print(URIRef(r[\"t\"]).n3(g.namespace_manager))\n",
    "    print(r[\"l\"])\n",
    "\n",
    "# Loop through each triple in the graph (subj, pred, obj)\n",
    "for subj, pred, obj in g:\n",
    "    # Check if there is at least one triple in the Graph\n",
    "    if (subj, pred, obj) not in g:\n",
    "       raise Exception(\"It better be!\")\n",
    "    \n",
    "    \n",
    "    print(subj, pred, obj)\n",
    "\n",
    "    \n",
    "\n",
    "# Print the number of \"triples\" in the Graph\n",
    "# print(f\"Graph g has {len(g)} statements.\")\n",
    "# print(OWL.Class)\n",
    "\n",
    "\n",
    "\n"
   ]
  }
 ],
 "metadata": {
  "kernelspec": {
   "display_name": "Python 3",
   "language": "python",
   "name": "python3"
  },
  "language_info": {
   "codemirror_mode": {
    "name": "ipython",
    "version": 3
   },
   "file_extension": ".py",
   "mimetype": "text/x-python",
   "name": "python",
   "nbconvert_exporter": "python",
   "pygments_lexer": "ipython3",
   "version": "3.9.18"
  }
 },
 "nbformat": 4,
 "nbformat_minor": 2
}
